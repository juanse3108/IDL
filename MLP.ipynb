{
 "cells": [
  {
   "cell_type": "markdown",
   "id": "48b90a80-d80c-4415-8ea5-cb90da1c5f3d",
   "metadata": {},
   "source": [
    "# MLP Exploration"
   ]
  },
  {
   "cell_type": "code",
   "execution_count": 60,
   "id": "005dc48e-4d0a-46ed-b456-3230dc7931c8",
   "metadata": {},
   "outputs": [],
   "source": [
    "import tensorflow as tf\n",
    "from tensorflow import keras\n",
    "from tensorflow.keras.callbacks import EarlyStopping\n",
    "import matplotlib.pyplot as plt\n",
    "import itertools\n",
    "import pandas as pd"
   ]
  },
  {
   "cell_type": "markdown",
   "id": "b824949f-219a-4cc8-9669-ccdf96db45a2",
   "metadata": {},
   "source": [
    "### 1) Architechture Exploration"
   ]
  },
  {
   "cell_type": "code",
   "execution_count": 2,
   "id": "e31abede-e44c-4bc9-a8f5-66f2edf7d0dc",
   "metadata": {},
   "outputs": [],
   "source": [
    "# First 3 types of newtwork architectures will be explored:\n",
    "# MLP 1: [Flatten → Dense(300) → Dense(100)]\n",
    "# MLP 2: [Flatten → Dense(512) → Dense(256) → Dense(128)]\n",
    "# MLP 3: [Flatten → Dense(400) → Dense(200)]"
   ]
  },
  {
   "cell_type": "markdown",
   "id": "df3d672d-91d2-4de4-a315-64375253b782",
   "metadata": {},
   "source": [
    "### 1.1) MLP 1"
   ]
  },
  {
   "cell_type": "code",
   "execution_count": 17,
   "id": "c109744f-a357-4262-954c-946eca61c41c",
   "metadata": {},
   "outputs": [],
   "source": [
    "######### Dataset\n",
    "\n",
    "# Load dataset\n",
    "(X_train_full, y_train_full), (X_test, y_test) = keras.datasets.fashion_mnist.load_data()\n",
    "\n",
    "# Split train/validation\n",
    "X_valid, X_train = X_train_full[:6000] / 255.0, X_train_full[6000:] / 255.0\n",
    "y_valid, y_train = y_train_full[:6000], y_train_full[6000:]\n",
    "\n",
    "# Normalization of data for network stability\n",
    "X_test = X_test / 255.0"
   ]
  },
  {
   "cell_type": "code",
   "execution_count": 53,
   "id": "0f7b3ece-453c-45f7-8fce-f9f378b7eee9",
   "metadata": {
    "scrolled": true
   },
   "outputs": [
    {
     "data": {
      "text/html": [
       "<pre style=\"white-space:pre;overflow-x:auto;line-height:normal;font-family:Menlo,'DejaVu Sans Mono',consolas,'Courier New',monospace\"><span style=\"font-weight: bold\">Model: \"sequential_29\"</span>\n",
       "</pre>\n"
      ],
      "text/plain": [
       "\u001b[1mModel: \"sequential_29\"\u001b[0m\n"
      ]
     },
     "metadata": {},
     "output_type": "display_data"
    },
    {
     "data": {
      "text/html": [
       "<pre style=\"white-space:pre;overflow-x:auto;line-height:normal;font-family:Menlo,'DejaVu Sans Mono',consolas,'Courier New',monospace\">┏━━━━━━━━━━━━━━━━━━━━━━━━━━━━━━━━━┳━━━━━━━━━━━━━━━━━━━━━━━━┳━━━━━━━━━━━━━━━┓\n",
       "┃<span style=\"font-weight: bold\"> Layer (type)                    </span>┃<span style=\"font-weight: bold\"> Output Shape           </span>┃<span style=\"font-weight: bold\">       Param # </span>┃\n",
       "┡━━━━━━━━━━━━━━━━━━━━━━━━━━━━━━━━━╇━━━━━━━━━━━━━━━━━━━━━━━━╇━━━━━━━━━━━━━━━┩\n",
       "│ flatten_29 (<span style=\"color: #0087ff; text-decoration-color: #0087ff\">Flatten</span>)            │ (<span style=\"color: #00d7ff; text-decoration-color: #00d7ff\">None</span>, <span style=\"color: #00af00; text-decoration-color: #00af00\">784</span>)            │             <span style=\"color: #00af00; text-decoration-color: #00af00\">0</span> │\n",
       "├─────────────────────────────────┼────────────────────────┼───────────────┤\n",
       "│ dense_89 (<span style=\"color: #0087ff; text-decoration-color: #0087ff\">Dense</span>)                │ (<span style=\"color: #00d7ff; text-decoration-color: #00d7ff\">None</span>, <span style=\"color: #00af00; text-decoration-color: #00af00\">300</span>)            │       <span style=\"color: #00af00; text-decoration-color: #00af00\">235,500</span> │\n",
       "├─────────────────────────────────┼────────────────────────┼───────────────┤\n",
       "│ dense_90 (<span style=\"color: #0087ff; text-decoration-color: #0087ff\">Dense</span>)                │ (<span style=\"color: #00d7ff; text-decoration-color: #00d7ff\">None</span>, <span style=\"color: #00af00; text-decoration-color: #00af00\">100</span>)            │        <span style=\"color: #00af00; text-decoration-color: #00af00\">30,100</span> │\n",
       "├─────────────────────────────────┼────────────────────────┼───────────────┤\n",
       "│ dense_91 (<span style=\"color: #0087ff; text-decoration-color: #0087ff\">Dense</span>)                │ (<span style=\"color: #00d7ff; text-decoration-color: #00d7ff\">None</span>, <span style=\"color: #00af00; text-decoration-color: #00af00\">10</span>)             │         <span style=\"color: #00af00; text-decoration-color: #00af00\">1,010</span> │\n",
       "└─────────────────────────────────┴────────────────────────┴───────────────┘\n",
       "</pre>\n"
      ],
      "text/plain": [
       "┏━━━━━━━━━━━━━━━━━━━━━━━━━━━━━━━━━┳━━━━━━━━━━━━━━━━━━━━━━━━┳━━━━━━━━━━━━━━━┓\n",
       "┃\u001b[1m \u001b[0m\u001b[1mLayer (type)                   \u001b[0m\u001b[1m \u001b[0m┃\u001b[1m \u001b[0m\u001b[1mOutput Shape          \u001b[0m\u001b[1m \u001b[0m┃\u001b[1m \u001b[0m\u001b[1m      Param #\u001b[0m\u001b[1m \u001b[0m┃\n",
       "┡━━━━━━━━━━━━━━━━━━━━━━━━━━━━━━━━━╇━━━━━━━━━━━━━━━━━━━━━━━━╇━━━━━━━━━━━━━━━┩\n",
       "│ flatten_29 (\u001b[38;5;33mFlatten\u001b[0m)            │ (\u001b[38;5;45mNone\u001b[0m, \u001b[38;5;34m784\u001b[0m)            │             \u001b[38;5;34m0\u001b[0m │\n",
       "├─────────────────────────────────┼────────────────────────┼───────────────┤\n",
       "│ dense_89 (\u001b[38;5;33mDense\u001b[0m)                │ (\u001b[38;5;45mNone\u001b[0m, \u001b[38;5;34m300\u001b[0m)            │       \u001b[38;5;34m235,500\u001b[0m │\n",
       "├─────────────────────────────────┼────────────────────────┼───────────────┤\n",
       "│ dense_90 (\u001b[38;5;33mDense\u001b[0m)                │ (\u001b[38;5;45mNone\u001b[0m, \u001b[38;5;34m100\u001b[0m)            │        \u001b[38;5;34m30,100\u001b[0m │\n",
       "├─────────────────────────────────┼────────────────────────┼───────────────┤\n",
       "│ dense_91 (\u001b[38;5;33mDense\u001b[0m)                │ (\u001b[38;5;45mNone\u001b[0m, \u001b[38;5;34m10\u001b[0m)             │         \u001b[38;5;34m1,010\u001b[0m │\n",
       "└─────────────────────────────────┴────────────────────────┴───────────────┘\n"
      ]
     },
     "metadata": {},
     "output_type": "display_data"
    },
    {
     "data": {
      "text/html": [
       "<pre style=\"white-space:pre;overflow-x:auto;line-height:normal;font-family:Menlo,'DejaVu Sans Mono',consolas,'Courier New',monospace\"><span style=\"font-weight: bold\"> Total params: </span><span style=\"color: #00af00; text-decoration-color: #00af00\">266,610</span> (1.02 MB)\n",
       "</pre>\n"
      ],
      "text/plain": [
       "\u001b[1m Total params: \u001b[0m\u001b[38;5;34m266,610\u001b[0m (1.02 MB)\n"
      ]
     },
     "metadata": {},
     "output_type": "display_data"
    },
    {
     "data": {
      "text/html": [
       "<pre style=\"white-space:pre;overflow-x:auto;line-height:normal;font-family:Menlo,'DejaVu Sans Mono',consolas,'Courier New',monospace\"><span style=\"font-weight: bold\"> Trainable params: </span><span style=\"color: #00af00; text-decoration-color: #00af00\">266,610</span> (1.02 MB)\n",
       "</pre>\n"
      ],
      "text/plain": [
       "\u001b[1m Trainable params: \u001b[0m\u001b[38;5;34m266,610\u001b[0m (1.02 MB)\n"
      ]
     },
     "metadata": {},
     "output_type": "display_data"
    },
    {
     "data": {
      "text/html": [
       "<pre style=\"white-space:pre;overflow-x:auto;line-height:normal;font-family:Menlo,'DejaVu Sans Mono',consolas,'Courier New',monospace\"><span style=\"font-weight: bold\"> Non-trainable params: </span><span style=\"color: #00af00; text-decoration-color: #00af00\">0</span> (0.00 B)\n",
       "</pre>\n"
      ],
      "text/plain": [
       "\u001b[1m Non-trainable params: \u001b[0m\u001b[38;5;34m0\u001b[0m (0.00 B)\n"
      ]
     },
     "metadata": {},
     "output_type": "display_data"
    },
    {
     "name": "stdout",
     "output_type": "stream",
     "text": [
      "Epoch 1/30\n",
      "\u001b[1m1688/1688\u001b[0m \u001b[32m━━━━━━━━━━━━━━━━━━━━\u001b[0m\u001b[37m\u001b[0m \u001b[1m5s\u001b[0m 3ms/step - accuracy: 0.7595 - loss: 0.7281 - val_accuracy: 0.8110 - val_loss: 0.5498\n",
      "Epoch 2/30\n",
      "\u001b[1m1688/1688\u001b[0m \u001b[32m━━━━━━━━━━━━━━━━━━━━\u001b[0m\u001b[37m\u001b[0m \u001b[1m4s\u001b[0m 2ms/step - accuracy: 0.8289 - loss: 0.4934 - val_accuracy: 0.8345 - val_loss: 0.4666\n",
      "Epoch 3/30\n",
      "\u001b[1m1688/1688\u001b[0m \u001b[32m━━━━━━━━━━━━━━━━━━━━\u001b[0m\u001b[37m\u001b[0m \u001b[1m4s\u001b[0m 3ms/step - accuracy: 0.8442 - loss: 0.4461 - val_accuracy: 0.8463 - val_loss: 0.4527\n",
      "Epoch 4/30\n",
      "\u001b[1m1688/1688\u001b[0m \u001b[32m━━━━━━━━━━━━━━━━━━━━\u001b[0m\u001b[37m\u001b[0m \u001b[1m4s\u001b[0m 2ms/step - accuracy: 0.8522 - loss: 0.4184 - val_accuracy: 0.8560 - val_loss: 0.4081\n",
      "Epoch 5/30\n",
      "\u001b[1m1688/1688\u001b[0m \u001b[32m━━━━━━━━━━━━━━━━━━━━\u001b[0m\u001b[37m\u001b[0m \u001b[1m4s\u001b[0m 2ms/step - accuracy: 0.8594 - loss: 0.3979 - val_accuracy: 0.8583 - val_loss: 0.4008\n",
      "Epoch 6/30\n",
      "\u001b[1m1688/1688\u001b[0m \u001b[32m━━━━━━━━━━━━━━━━━━━━\u001b[0m\u001b[37m\u001b[0m \u001b[1m4s\u001b[0m 2ms/step - accuracy: 0.8670 - loss: 0.3797 - val_accuracy: 0.8588 - val_loss: 0.4118\n",
      "Epoch 7/30\n",
      "\u001b[1m1688/1688\u001b[0m \u001b[32m━━━━━━━━━━━━━━━━━━━━\u001b[0m\u001b[37m\u001b[0m \u001b[1m4s\u001b[0m 2ms/step - accuracy: 0.8700 - loss: 0.3682 - val_accuracy: 0.8687 - val_loss: 0.3792\n",
      "Epoch 8/30\n",
      "\u001b[1m1688/1688\u001b[0m \u001b[32m━━━━━━━━━━━━━━━━━━━━\u001b[0m\u001b[37m\u001b[0m \u001b[1m4s\u001b[0m 3ms/step - accuracy: 0.8742 - loss: 0.3571 - val_accuracy: 0.8677 - val_loss: 0.3697\n",
      "Epoch 9/30\n",
      "\u001b[1m1688/1688\u001b[0m \u001b[32m━━━━━━━━━━━━━━━━━━━━\u001b[0m\u001b[37m\u001b[0m \u001b[1m4s\u001b[0m 2ms/step - accuracy: 0.8778 - loss: 0.3459 - val_accuracy: 0.8703 - val_loss: 0.3601\n",
      "Epoch 10/30\n",
      "\u001b[1m1688/1688\u001b[0m \u001b[32m━━━━━━━━━━━━━━━━━━━━\u001b[0m\u001b[37m\u001b[0m \u001b[1m4s\u001b[0m 2ms/step - accuracy: 0.8810 - loss: 0.3365 - val_accuracy: 0.8743 - val_loss: 0.3558\n",
      "Epoch 11/30\n",
      "\u001b[1m1688/1688\u001b[0m \u001b[32m━━━━━━━━━━━━━━━━━━━━\u001b[0m\u001b[37m\u001b[0m \u001b[1m4s\u001b[0m 3ms/step - accuracy: 0.8830 - loss: 0.3272 - val_accuracy: 0.8773 - val_loss: 0.3405\n",
      "Epoch 12/30\n",
      "\u001b[1m1688/1688\u001b[0m \u001b[32m━━━━━━━━━━━━━━━━━━━━\u001b[0m\u001b[37m\u001b[0m \u001b[1m5s\u001b[0m 3ms/step - accuracy: 0.8865 - loss: 0.3196 - val_accuracy: 0.8723 - val_loss: 0.3490\n",
      "Epoch 13/30\n",
      "\u001b[1m1688/1688\u001b[0m \u001b[32m━━━━━━━━━━━━━━━━━━━━\u001b[0m\u001b[37m\u001b[0m \u001b[1m4s\u001b[0m 3ms/step - accuracy: 0.8890 - loss: 0.3129 - val_accuracy: 0.8800 - val_loss: 0.3331\n",
      "Epoch 14/30\n",
      "\u001b[1m1688/1688\u001b[0m \u001b[32m━━━━━━━━━━━━━━━━━━━━\u001b[0m\u001b[37m\u001b[0m \u001b[1m4s\u001b[0m 3ms/step - accuracy: 0.8907 - loss: 0.3046 - val_accuracy: 0.8783 - val_loss: 0.3369\n",
      "Epoch 15/30\n",
      "\u001b[1m1688/1688\u001b[0m \u001b[32m━━━━━━━━━━━━━━━━━━━━\u001b[0m\u001b[37m\u001b[0m \u001b[1m4s\u001b[0m 2ms/step - accuracy: 0.8939 - loss: 0.2978 - val_accuracy: 0.8652 - val_loss: 0.3662\n",
      "Epoch 16/30\n",
      "\u001b[1m1688/1688\u001b[0m \u001b[32m━━━━━━━━━━━━━━━━━━━━\u001b[0m\u001b[37m\u001b[0m \u001b[1m4s\u001b[0m 3ms/step - accuracy: 0.8963 - loss: 0.2915 - val_accuracy: 0.8800 - val_loss: 0.3307\n",
      "Epoch 17/30\n",
      "\u001b[1m1688/1688\u001b[0m \u001b[32m━━━━━━━━━━━━━━━━━━━━\u001b[0m\u001b[37m\u001b[0m \u001b[1m4s\u001b[0m 3ms/step - accuracy: 0.8965 - loss: 0.2856 - val_accuracy: 0.8808 - val_loss: 0.3290\n",
      "Epoch 18/30\n",
      "\u001b[1m1688/1688\u001b[0m \u001b[32m━━━━━━━━━━━━━━━━━━━━\u001b[0m\u001b[37m\u001b[0m \u001b[1m4s\u001b[0m 2ms/step - accuracy: 0.8999 - loss: 0.2801 - val_accuracy: 0.8713 - val_loss: 0.3509\n",
      "Epoch 19/30\n",
      "\u001b[1m1688/1688\u001b[0m \u001b[32m━━━━━━━━━━━━━━━━━━━━\u001b[0m\u001b[37m\u001b[0m \u001b[1m4s\u001b[0m 2ms/step - accuracy: 0.9018 - loss: 0.2745 - val_accuracy: 0.8858 - val_loss: 0.3141\n",
      "Epoch 20/30\n",
      "\u001b[1m1688/1688\u001b[0m \u001b[32m━━━━━━━━━━━━━━━━━━━━\u001b[0m\u001b[37m\u001b[0m \u001b[1m4s\u001b[0m 3ms/step - accuracy: 0.9030 - loss: 0.2698 - val_accuracy: 0.8817 - val_loss: 0.3251\n",
      "Epoch 21/30\n",
      "\u001b[1m1688/1688\u001b[0m \u001b[32m━━━━━━━━━━━━━━━━━━━━\u001b[0m\u001b[37m\u001b[0m \u001b[1m4s\u001b[0m 3ms/step - accuracy: 0.9043 - loss: 0.2651 - val_accuracy: 0.8803 - val_loss: 0.3244\n",
      "Epoch 22/30\n",
      "\u001b[1m1688/1688\u001b[0m \u001b[32m━━━━━━━━━━━━━━━━━━━━\u001b[0m\u001b[37m\u001b[0m \u001b[1m5s\u001b[0m 3ms/step - accuracy: 0.9056 - loss: 0.2599 - val_accuracy: 0.8835 - val_loss: 0.3266\n",
      "Epoch 23/30\n",
      "\u001b[1m1688/1688\u001b[0m \u001b[32m━━━━━━━━━━━━━━━━━━━━\u001b[0m\u001b[37m\u001b[0m \u001b[1m4s\u001b[0m 3ms/step - accuracy: 0.9086 - loss: 0.2554 - val_accuracy: 0.8800 - val_loss: 0.3306\n",
      "Epoch 24/30\n",
      "\u001b[1m1688/1688\u001b[0m \u001b[32m━━━━━━━━━━━━━━━━━━━━\u001b[0m\u001b[37m\u001b[0m \u001b[1m5s\u001b[0m 3ms/step - accuracy: 0.9089 - loss: 0.2507 - val_accuracy: 0.8807 - val_loss: 0.3166\n",
      "Epoch 25/30\n",
      "\u001b[1m1688/1688\u001b[0m \u001b[32m━━━━━━━━━━━━━━━━━━━━\u001b[0m\u001b[37m\u001b[0m \u001b[1m5s\u001b[0m 3ms/step - accuracy: 0.9110 - loss: 0.2467 - val_accuracy: 0.8830 - val_loss: 0.3149\n",
      "Epoch 26/30\n",
      "\u001b[1m1688/1688\u001b[0m \u001b[32m━━━━━━━━━━━━━━━━━━━━\u001b[0m\u001b[37m\u001b[0m \u001b[1m4s\u001b[0m 3ms/step - accuracy: 0.9112 - loss: 0.2430 - val_accuracy: 0.8662 - val_loss: 0.3512\n",
      "Epoch 27/30\n",
      "\u001b[1m1688/1688\u001b[0m \u001b[32m━━━━━━━━━━━━━━━━━━━━\u001b[0m\u001b[37m\u001b[0m \u001b[1m4s\u001b[0m 2ms/step - accuracy: 0.9142 - loss: 0.2388 - val_accuracy: 0.8885 - val_loss: 0.3107\n",
      "Epoch 28/30\n",
      "\u001b[1m1688/1688\u001b[0m \u001b[32m━━━━━━━━━━━━━━━━━━━━\u001b[0m\u001b[37m\u001b[0m \u001b[1m4s\u001b[0m 2ms/step - accuracy: 0.9168 - loss: 0.2342 - val_accuracy: 0.8875 - val_loss: 0.2960\n",
      "Epoch 29/30\n",
      "\u001b[1m1688/1688\u001b[0m \u001b[32m━━━━━━━━━━━━━━━━━━━━\u001b[0m\u001b[37m\u001b[0m \u001b[1m5s\u001b[0m 3ms/step - accuracy: 0.9173 - loss: 0.2308 - val_accuracy: 0.8853 - val_loss: 0.3100\n",
      "Epoch 30/30\n",
      "\u001b[1m1688/1688\u001b[0m \u001b[32m━━━━━━━━━━━━━━━━━━━━\u001b[0m\u001b[37m\u001b[0m \u001b[1m5s\u001b[0m 3ms/step - accuracy: 0.9187 - loss: 0.2266 - val_accuracy: 0.8893 - val_loss: 0.2936\n",
      "\u001b[1m313/313\u001b[0m \u001b[32m━━━━━━━━━━━━━━━━━━━━\u001b[0m\u001b[37m\u001b[0m \u001b[1m0s\u001b[0m 1ms/step - accuracy: 0.8848 - loss: 0.3194\n",
      "Test accuracy: 0.8848\n",
      "Test loss: 0.3194\n"
     ]
    }
   ],
   "source": [
    "# 1. Define the model\n",
    "model = keras.models.Sequential([\n",
    "    keras.layers.Flatten(input_shape=[28, 28]),\n",
    "    keras.layers.Dense(300, activation=\"relu\"),\n",
    "    keras.layers.Dense(100, activation=\"relu\"),\n",
    "    keras.layers.Dense(10, activation=\"softmax\")\n",
    "])\n",
    "\n",
    "# 2. Compile the model\n",
    "model.compile(loss=\"sparse_categorical_crossentropy\",\n",
    "              optimizer=\"sgd\",\n",
    "              metrics=[\"accuracy\"])\n",
    "\n",
    "# 2.1 Summary check\n",
    "model.summary()\n",
    "\n",
    "# 3. Train the model\n",
    "history = model.fit(X_train, y_train,\n",
    "                    epochs=30,\n",
    "                    validation_data=(X_valid, y_valid))\n",
    "\n",
    "# 4. Evaluate on the test set\n",
    "test_loss, test_acc = model.evaluate(X_test, y_test)\n",
    "print(f\"Test accuracy: {test_acc:.4f}\")\n",
    "print(f\"Test loss: {test_loss:.4f}\")"
   ]
  },
  {
   "cell_type": "markdown",
   "id": "7972d44a-76b6-43da-a7ff-1ec12545366e",
   "metadata": {},
   "source": [
    "### 1.2) MLP 2"
   ]
  },
  {
   "cell_type": "code",
   "execution_count": 5,
   "id": "b704a43c-21eb-47dd-9db7-dca65156d306",
   "metadata": {},
   "outputs": [],
   "source": [
    "######### Dataset\n",
    "\n",
    "# Load dataset\n",
    "(X_train_full, y_train_full), (X_test, y_test) = keras.datasets.fashion_mnist.load_data()\n",
    "\n",
    "# Split train/validation\n",
    "X_valid, X_train = X_train_full[:6000] / 255.0, X_train_full[6000:] / 255.0\n",
    "y_valid, y_train = y_train_full[:6000], y_train_full[6000:]\n",
    "\n",
    "# Normalization of data for network stability\n",
    "X_test = X_test / 255.0"
   ]
  },
  {
   "cell_type": "code",
   "execution_count": 54,
   "id": "9010aff3-7a03-40cf-848e-f85519c0a75a",
   "metadata": {
    "scrolled": true
   },
   "outputs": [
    {
     "data": {
      "text/html": [
       "<pre style=\"white-space:pre;overflow-x:auto;line-height:normal;font-family:Menlo,'DejaVu Sans Mono',consolas,'Courier New',monospace\"><span style=\"font-weight: bold\">Model: \"sequential_30\"</span>\n",
       "</pre>\n"
      ],
      "text/plain": [
       "\u001b[1mModel: \"sequential_30\"\u001b[0m\n"
      ]
     },
     "metadata": {},
     "output_type": "display_data"
    },
    {
     "data": {
      "text/html": [
       "<pre style=\"white-space:pre;overflow-x:auto;line-height:normal;font-family:Menlo,'DejaVu Sans Mono',consolas,'Courier New',monospace\">┏━━━━━━━━━━━━━━━━━━━━━━━━━━━━━━━━━┳━━━━━━━━━━━━━━━━━━━━━━━━┳━━━━━━━━━━━━━━━┓\n",
       "┃<span style=\"font-weight: bold\"> Layer (type)                    </span>┃<span style=\"font-weight: bold\"> Output Shape           </span>┃<span style=\"font-weight: bold\">       Param # </span>┃\n",
       "┡━━━━━━━━━━━━━━━━━━━━━━━━━━━━━━━━━╇━━━━━━━━━━━━━━━━━━━━━━━━╇━━━━━━━━━━━━━━━┩\n",
       "│ flatten_30 (<span style=\"color: #0087ff; text-decoration-color: #0087ff\">Flatten</span>)            │ (<span style=\"color: #00d7ff; text-decoration-color: #00d7ff\">None</span>, <span style=\"color: #00af00; text-decoration-color: #00af00\">784</span>)            │             <span style=\"color: #00af00; text-decoration-color: #00af00\">0</span> │\n",
       "├─────────────────────────────────┼────────────────────────┼───────────────┤\n",
       "│ dense_92 (<span style=\"color: #0087ff; text-decoration-color: #0087ff\">Dense</span>)                │ (<span style=\"color: #00d7ff; text-decoration-color: #00d7ff\">None</span>, <span style=\"color: #00af00; text-decoration-color: #00af00\">512</span>)            │       <span style=\"color: #00af00; text-decoration-color: #00af00\">401,920</span> │\n",
       "├─────────────────────────────────┼────────────────────────┼───────────────┤\n",
       "│ dense_93 (<span style=\"color: #0087ff; text-decoration-color: #0087ff\">Dense</span>)                │ (<span style=\"color: #00d7ff; text-decoration-color: #00d7ff\">None</span>, <span style=\"color: #00af00; text-decoration-color: #00af00\">256</span>)            │       <span style=\"color: #00af00; text-decoration-color: #00af00\">131,328</span> │\n",
       "├─────────────────────────────────┼────────────────────────┼───────────────┤\n",
       "│ dense_94 (<span style=\"color: #0087ff; text-decoration-color: #0087ff\">Dense</span>)                │ (<span style=\"color: #00d7ff; text-decoration-color: #00d7ff\">None</span>, <span style=\"color: #00af00; text-decoration-color: #00af00\">128</span>)            │        <span style=\"color: #00af00; text-decoration-color: #00af00\">32,896</span> │\n",
       "├─────────────────────────────────┼────────────────────────┼───────────────┤\n",
       "│ dense_95 (<span style=\"color: #0087ff; text-decoration-color: #0087ff\">Dense</span>)                │ (<span style=\"color: #00d7ff; text-decoration-color: #00d7ff\">None</span>, <span style=\"color: #00af00; text-decoration-color: #00af00\">10</span>)             │         <span style=\"color: #00af00; text-decoration-color: #00af00\">1,290</span> │\n",
       "└─────────────────────────────────┴────────────────────────┴───────────────┘\n",
       "</pre>\n"
      ],
      "text/plain": [
       "┏━━━━━━━━━━━━━━━━━━━━━━━━━━━━━━━━━┳━━━━━━━━━━━━━━━━━━━━━━━━┳━━━━━━━━━━━━━━━┓\n",
       "┃\u001b[1m \u001b[0m\u001b[1mLayer (type)                   \u001b[0m\u001b[1m \u001b[0m┃\u001b[1m \u001b[0m\u001b[1mOutput Shape          \u001b[0m\u001b[1m \u001b[0m┃\u001b[1m \u001b[0m\u001b[1m      Param #\u001b[0m\u001b[1m \u001b[0m┃\n",
       "┡━━━━━━━━━━━━━━━━━━━━━━━━━━━━━━━━━╇━━━━━━━━━━━━━━━━━━━━━━━━╇━━━━━━━━━━━━━━━┩\n",
       "│ flatten_30 (\u001b[38;5;33mFlatten\u001b[0m)            │ (\u001b[38;5;45mNone\u001b[0m, \u001b[38;5;34m784\u001b[0m)            │             \u001b[38;5;34m0\u001b[0m │\n",
       "├─────────────────────────────────┼────────────────────────┼───────────────┤\n",
       "│ dense_92 (\u001b[38;5;33mDense\u001b[0m)                │ (\u001b[38;5;45mNone\u001b[0m, \u001b[38;5;34m512\u001b[0m)            │       \u001b[38;5;34m401,920\u001b[0m │\n",
       "├─────────────────────────────────┼────────────────────────┼───────────────┤\n",
       "│ dense_93 (\u001b[38;5;33mDense\u001b[0m)                │ (\u001b[38;5;45mNone\u001b[0m, \u001b[38;5;34m256\u001b[0m)            │       \u001b[38;5;34m131,328\u001b[0m │\n",
       "├─────────────────────────────────┼────────────────────────┼───────────────┤\n",
       "│ dense_94 (\u001b[38;5;33mDense\u001b[0m)                │ (\u001b[38;5;45mNone\u001b[0m, \u001b[38;5;34m128\u001b[0m)            │        \u001b[38;5;34m32,896\u001b[0m │\n",
       "├─────────────────────────────────┼────────────────────────┼───────────────┤\n",
       "│ dense_95 (\u001b[38;5;33mDense\u001b[0m)                │ (\u001b[38;5;45mNone\u001b[0m, \u001b[38;5;34m10\u001b[0m)             │         \u001b[38;5;34m1,290\u001b[0m │\n",
       "└─────────────────────────────────┴────────────────────────┴───────────────┘\n"
      ]
     },
     "metadata": {},
     "output_type": "display_data"
    },
    {
     "data": {
      "text/html": [
       "<pre style=\"white-space:pre;overflow-x:auto;line-height:normal;font-family:Menlo,'DejaVu Sans Mono',consolas,'Courier New',monospace\"><span style=\"font-weight: bold\"> Total params: </span><span style=\"color: #00af00; text-decoration-color: #00af00\">567,434</span> (2.16 MB)\n",
       "</pre>\n"
      ],
      "text/plain": [
       "\u001b[1m Total params: \u001b[0m\u001b[38;5;34m567,434\u001b[0m (2.16 MB)\n"
      ]
     },
     "metadata": {},
     "output_type": "display_data"
    },
    {
     "data": {
      "text/html": [
       "<pre style=\"white-space:pre;overflow-x:auto;line-height:normal;font-family:Menlo,'DejaVu Sans Mono',consolas,'Courier New',monospace\"><span style=\"font-weight: bold\"> Trainable params: </span><span style=\"color: #00af00; text-decoration-color: #00af00\">567,434</span> (2.16 MB)\n",
       "</pre>\n"
      ],
      "text/plain": [
       "\u001b[1m Trainable params: \u001b[0m\u001b[38;5;34m567,434\u001b[0m (2.16 MB)\n"
      ]
     },
     "metadata": {},
     "output_type": "display_data"
    },
    {
     "data": {
      "text/html": [
       "<pre style=\"white-space:pre;overflow-x:auto;line-height:normal;font-family:Menlo,'DejaVu Sans Mono',consolas,'Courier New',monospace\"><span style=\"font-weight: bold\"> Non-trainable params: </span><span style=\"color: #00af00; text-decoration-color: #00af00\">0</span> (0.00 B)\n",
       "</pre>\n"
      ],
      "text/plain": [
       "\u001b[1m Non-trainable params: \u001b[0m\u001b[38;5;34m0\u001b[0m (0.00 B)\n"
      ]
     },
     "metadata": {},
     "output_type": "display_data"
    },
    {
     "name": "stdout",
     "output_type": "stream",
     "text": [
      "Epoch 1/30\n",
      "\u001b[1m1688/1688\u001b[0m \u001b[32m━━━━━━━━━━━━━━━━━━━━\u001b[0m\u001b[37m\u001b[0m \u001b[1m8s\u001b[0m 4ms/step - accuracy: 0.7719 - loss: 0.6911 - val_accuracy: 0.8287 - val_loss: 0.5089\n",
      "Epoch 2/30\n",
      "\u001b[1m1688/1688\u001b[0m \u001b[32m━━━━━━━━━━━━━━━━━━━━\u001b[0m\u001b[37m\u001b[0m \u001b[1m7s\u001b[0m 4ms/step - accuracy: 0.8356 - loss: 0.4664 - val_accuracy: 0.8578 - val_loss: 0.4116\n",
      "Epoch 3/30\n",
      "\u001b[1m1688/1688\u001b[0m \u001b[32m━━━━━━━━━━━━━━━━━━━━\u001b[0m\u001b[37m\u001b[0m \u001b[1m7s\u001b[0m 4ms/step - accuracy: 0.8520 - loss: 0.4205 - val_accuracy: 0.8603 - val_loss: 0.4012\n",
      "Epoch 4/30\n",
      "\u001b[1m1688/1688\u001b[0m \u001b[32m━━━━━━━━━━━━━━━━━━━━\u001b[0m\u001b[37m\u001b[0m \u001b[1m7s\u001b[0m 4ms/step - accuracy: 0.8603 - loss: 0.3921 - val_accuracy: 0.8625 - val_loss: 0.3887\n",
      "Epoch 5/30\n",
      "\u001b[1m1688/1688\u001b[0m \u001b[32m━━━━━━━━━━━━━━━━━━━━\u001b[0m\u001b[37m\u001b[0m \u001b[1m7s\u001b[0m 4ms/step - accuracy: 0.8689 - loss: 0.3709 - val_accuracy: 0.8630 - val_loss: 0.3727\n",
      "Epoch 6/30\n",
      "\u001b[1m1688/1688\u001b[0m \u001b[32m━━━━━━━━━━━━━━━━━━━━\u001b[0m\u001b[37m\u001b[0m \u001b[1m7s\u001b[0m 4ms/step - accuracy: 0.8727 - loss: 0.3532 - val_accuracy: 0.8553 - val_loss: 0.4028\n",
      "Epoch 7/30\n",
      "\u001b[1m1688/1688\u001b[0m \u001b[32m━━━━━━━━━━━━━━━━━━━━\u001b[0m\u001b[37m\u001b[0m \u001b[1m7s\u001b[0m 4ms/step - accuracy: 0.8779 - loss: 0.3392 - val_accuracy: 0.8743 - val_loss: 0.3553\n",
      "Epoch 8/30\n",
      "\u001b[1m1688/1688\u001b[0m \u001b[32m━━━━━━━━━━━━━━━━━━━━\u001b[0m\u001b[37m\u001b[0m \u001b[1m7s\u001b[0m 4ms/step - accuracy: 0.8829 - loss: 0.3260 - val_accuracy: 0.8767 - val_loss: 0.3384\n",
      "Epoch 9/30\n",
      "\u001b[1m1688/1688\u001b[0m \u001b[32m━━━━━━━━━━━━━━━━━━━━\u001b[0m\u001b[37m\u001b[0m \u001b[1m6s\u001b[0m 4ms/step - accuracy: 0.8867 - loss: 0.3146 - val_accuracy: 0.8795 - val_loss: 0.3339\n",
      "Epoch 10/30\n",
      "\u001b[1m1688/1688\u001b[0m \u001b[32m━━━━━━━━━━━━━━━━━━━━\u001b[0m\u001b[37m\u001b[0m \u001b[1m6s\u001b[0m 4ms/step - accuracy: 0.8885 - loss: 0.3056 - val_accuracy: 0.8658 - val_loss: 0.3722\n",
      "Epoch 11/30\n",
      "\u001b[1m1688/1688\u001b[0m \u001b[32m━━━━━━━━━━━━━━━━━━━━\u001b[0m\u001b[37m\u001b[0m \u001b[1m6s\u001b[0m 3ms/step - accuracy: 0.8920 - loss: 0.2966 - val_accuracy: 0.8768 - val_loss: 0.3355\n",
      "Epoch 12/30\n",
      "\u001b[1m1688/1688\u001b[0m \u001b[32m━━━━━━━━━━━━━━━━━━━━\u001b[0m\u001b[37m\u001b[0m \u001b[1m6s\u001b[0m 4ms/step - accuracy: 0.8949 - loss: 0.2873 - val_accuracy: 0.8800 - val_loss: 0.3359\n",
      "Epoch 13/30\n",
      "\u001b[1m1688/1688\u001b[0m \u001b[32m━━━━━━━━━━━━━━━━━━━━\u001b[0m\u001b[37m\u001b[0m \u001b[1m6s\u001b[0m 4ms/step - accuracy: 0.8987 - loss: 0.2792 - val_accuracy: 0.8808 - val_loss: 0.3207\n",
      "Epoch 14/30\n",
      "\u001b[1m1688/1688\u001b[0m \u001b[32m━━━━━━━━━━━━━━━━━━━━\u001b[0m\u001b[37m\u001b[0m \u001b[1m6s\u001b[0m 4ms/step - accuracy: 0.9002 - loss: 0.2724 - val_accuracy: 0.8837 - val_loss: 0.3135\n",
      "Epoch 15/30\n",
      "\u001b[1m1688/1688\u001b[0m \u001b[32m━━━━━━━━━━━━━━━━━━━━\u001b[0m\u001b[37m\u001b[0m \u001b[1m6s\u001b[0m 3ms/step - accuracy: 0.9034 - loss: 0.2650 - val_accuracy: 0.8848 - val_loss: 0.3084\n",
      "Epoch 16/30\n",
      "\u001b[1m1688/1688\u001b[0m \u001b[32m━━━━━━━━━━━━━━━━━━━━\u001b[0m\u001b[37m\u001b[0m \u001b[1m6s\u001b[0m 4ms/step - accuracy: 0.9047 - loss: 0.2587 - val_accuracy: 0.8907 - val_loss: 0.2985\n",
      "Epoch 17/30\n",
      "\u001b[1m1688/1688\u001b[0m \u001b[32m━━━━━━━━━━━━━━━━━━━━\u001b[0m\u001b[37m\u001b[0m \u001b[1m6s\u001b[0m 4ms/step - accuracy: 0.9079 - loss: 0.2528 - val_accuracy: 0.8843 - val_loss: 0.3102\n",
      "Epoch 18/30\n",
      "\u001b[1m1688/1688\u001b[0m \u001b[32m━━━━━━━━━━━━━━━━━━━━\u001b[0m\u001b[37m\u001b[0m \u001b[1m7s\u001b[0m 4ms/step - accuracy: 0.9106 - loss: 0.2461 - val_accuracy: 0.8885 - val_loss: 0.3061\n",
      "Epoch 19/30\n",
      "\u001b[1m1688/1688\u001b[0m \u001b[32m━━━━━━━━━━━━━━━━━━━━\u001b[0m\u001b[37m\u001b[0m \u001b[1m6s\u001b[0m 4ms/step - accuracy: 0.9129 - loss: 0.2399 - val_accuracy: 0.8648 - val_loss: 0.3797\n",
      "Epoch 20/30\n",
      "\u001b[1m1688/1688\u001b[0m \u001b[32m━━━━━━━━━━━━━━━━━━━━\u001b[0m\u001b[37m\u001b[0m \u001b[1m7s\u001b[0m 4ms/step - accuracy: 0.9150 - loss: 0.2344 - val_accuracy: 0.8925 - val_loss: 0.3045\n",
      "Epoch 21/30\n",
      "\u001b[1m1688/1688\u001b[0m \u001b[32m━━━━━━━━━━━━━━━━━━━━\u001b[0m\u001b[37m\u001b[0m \u001b[1m7s\u001b[0m 4ms/step - accuracy: 0.9171 - loss: 0.2284 - val_accuracy: 0.8908 - val_loss: 0.3067\n",
      "Epoch 22/30\n",
      "\u001b[1m1688/1688\u001b[0m \u001b[32m━━━━━━━━━━━━━━━━━━━━\u001b[0m\u001b[37m\u001b[0m \u001b[1m7s\u001b[0m 4ms/step - accuracy: 0.9178 - loss: 0.2242 - val_accuracy: 0.8882 - val_loss: 0.3005\n",
      "Epoch 23/30\n",
      "\u001b[1m1688/1688\u001b[0m \u001b[32m━━━━━━━━━━━━━━━━━━━━\u001b[0m\u001b[37m\u001b[0m \u001b[1m6s\u001b[0m 4ms/step - accuracy: 0.9211 - loss: 0.2179 - val_accuracy: 0.8957 - val_loss: 0.2893\n",
      "Epoch 24/30\n",
      "\u001b[1m1688/1688\u001b[0m \u001b[32m━━━━━━━━━━━━━━━━━━━━\u001b[0m\u001b[37m\u001b[0m \u001b[1m7s\u001b[0m 4ms/step - accuracy: 0.9220 - loss: 0.2139 - val_accuracy: 0.8972 - val_loss: 0.2894\n",
      "Epoch 25/30\n",
      "\u001b[1m1688/1688\u001b[0m \u001b[32m━━━━━━━━━━━━━━━━━━━━\u001b[0m\u001b[37m\u001b[0m \u001b[1m6s\u001b[0m 3ms/step - accuracy: 0.9241 - loss: 0.2081 - val_accuracy: 0.8818 - val_loss: 0.3337\n",
      "Epoch 26/30\n",
      "\u001b[1m1688/1688\u001b[0m \u001b[32m━━━━━━━━━━━━━━━━━━━━\u001b[0m\u001b[37m\u001b[0m \u001b[1m7s\u001b[0m 4ms/step - accuracy: 0.9250 - loss: 0.2049 - val_accuracy: 0.8872 - val_loss: 0.3178\n",
      "Epoch 27/30\n",
      "\u001b[1m1688/1688\u001b[0m \u001b[32m━━━━━━━━━━━━━━━━━━━━\u001b[0m\u001b[37m\u001b[0m \u001b[1m6s\u001b[0m 4ms/step - accuracy: 0.9283 - loss: 0.1991 - val_accuracy: 0.8902 - val_loss: 0.3000\n",
      "Epoch 28/30\n",
      "\u001b[1m1688/1688\u001b[0m \u001b[32m━━━━━━━━━━━━━━━━━━━━\u001b[0m\u001b[37m\u001b[0m \u001b[1m7s\u001b[0m 4ms/step - accuracy: 0.9285 - loss: 0.1950 - val_accuracy: 0.8863 - val_loss: 0.3170\n",
      "Epoch 29/30\n",
      "\u001b[1m1688/1688\u001b[0m \u001b[32m━━━━━━━━━━━━━━━━━━━━\u001b[0m\u001b[37m\u001b[0m \u001b[1m6s\u001b[0m 4ms/step - accuracy: 0.9304 - loss: 0.1910 - val_accuracy: 0.8855 - val_loss: 0.3071\n",
      "Epoch 30/30\n",
      "\u001b[1m1688/1688\u001b[0m \u001b[32m━━━━━━━━━━━━━━━━━━━━\u001b[0m\u001b[37m\u001b[0m \u001b[1m6s\u001b[0m 4ms/step - accuracy: 0.9319 - loss: 0.1855 - val_accuracy: 0.8878 - val_loss: 0.3025\n",
      "\u001b[1m313/313\u001b[0m \u001b[32m━━━━━━━━━━━━━━━━━━━━\u001b[0m\u001b[37m\u001b[0m \u001b[1m0s\u001b[0m 1ms/step - accuracy: 0.8755 - loss: 0.3392\n",
      "Test accuracy: 0.8755\n",
      "Test loss: 0.3392\n"
     ]
    }
   ],
   "source": [
    "# 1. Define the model\n",
    "model = keras.models.Sequential([\n",
    "    keras.layers.Flatten(input_shape=[28, 28]),\n",
    "    keras.layers.Dense(512, activation=\"relu\"),\n",
    "    keras.layers.Dense(256, activation=\"relu\"),\n",
    "    keras.layers.Dense(128, activation=\"relu\"),\n",
    "    keras.layers.Dense(10, activation=\"softmax\")\n",
    "])\n",
    "\n",
    "# 2. Compile the model\n",
    "model.compile(loss=\"sparse_categorical_crossentropy\",\n",
    "              optimizer=\"sgd\",\n",
    "              metrics=[\"accuracy\"])\n",
    "\n",
    "# 2.1 Summary check\n",
    "model.summary()\n",
    "\n",
    "# 3. Train the model\n",
    "history = model.fit(X_train, y_train,\n",
    "                    epochs=30,\n",
    "                    validation_data=(X_valid, y_valid))\n",
    "\n",
    "# 4. Evaluate on the test set\n",
    "test_loss, test_acc = model.evaluate(X_test, y_test)\n",
    "print(f\"Test accuracy: {test_acc:.4f}\")\n",
    "print(f\"Test loss: {test_loss:.4f}\")"
   ]
  },
  {
   "cell_type": "markdown",
   "id": "ea730b99-5c8d-49f3-a33c-47d381abbcff",
   "metadata": {},
   "source": [
    "### 1.3) MLP 3"
   ]
  },
  {
   "cell_type": "code",
   "execution_count": 14,
   "id": "01b5d485-1910-448b-8d05-4de7629de8d4",
   "metadata": {},
   "outputs": [],
   "source": [
    "######### Dataset\n",
    "\n",
    "# Load dataset\n",
    "(X_train_full, y_train_full), (X_test, y_test) = keras.datasets.fashion_mnist.load_data()\n",
    "\n",
    "# Split train/validation\n",
    "X_valid, X_train = X_train_full[:6000] / 255.0, X_train_full[6000:] / 255.0\n",
    "y_valid, y_train = y_train_full[:6000], y_train_full[6000:]\n",
    "\n",
    "# Normalization of data for network stability\n",
    "X_test = X_test / 255.0"
   ]
  },
  {
   "cell_type": "code",
   "execution_count": 55,
   "id": "1fdcfbe5-e90e-4209-a171-a1e63f18d3bf",
   "metadata": {
    "scrolled": true
   },
   "outputs": [
    {
     "data": {
      "text/html": [
       "<pre style=\"white-space:pre;overflow-x:auto;line-height:normal;font-family:Menlo,'DejaVu Sans Mono',consolas,'Courier New',monospace\"><span style=\"font-weight: bold\">Model: \"sequential_31\"</span>\n",
       "</pre>\n"
      ],
      "text/plain": [
       "\u001b[1mModel: \"sequential_31\"\u001b[0m\n"
      ]
     },
     "metadata": {},
     "output_type": "display_data"
    },
    {
     "data": {
      "text/html": [
       "<pre style=\"white-space:pre;overflow-x:auto;line-height:normal;font-family:Menlo,'DejaVu Sans Mono',consolas,'Courier New',monospace\">┏━━━━━━━━━━━━━━━━━━━━━━━━━━━━━━━━━┳━━━━━━━━━━━━━━━━━━━━━━━━┳━━━━━━━━━━━━━━━┓\n",
       "┃<span style=\"font-weight: bold\"> Layer (type)                    </span>┃<span style=\"font-weight: bold\"> Output Shape           </span>┃<span style=\"font-weight: bold\">       Param # </span>┃\n",
       "┡━━━━━━━━━━━━━━━━━━━━━━━━━━━━━━━━━╇━━━━━━━━━━━━━━━━━━━━━━━━╇━━━━━━━━━━━━━━━┩\n",
       "│ flatten_31 (<span style=\"color: #0087ff; text-decoration-color: #0087ff\">Flatten</span>)            │ (<span style=\"color: #00d7ff; text-decoration-color: #00d7ff\">None</span>, <span style=\"color: #00af00; text-decoration-color: #00af00\">784</span>)            │             <span style=\"color: #00af00; text-decoration-color: #00af00\">0</span> │\n",
       "├─────────────────────────────────┼────────────────────────┼───────────────┤\n",
       "│ dense_96 (<span style=\"color: #0087ff; text-decoration-color: #0087ff\">Dense</span>)                │ (<span style=\"color: #00d7ff; text-decoration-color: #00d7ff\">None</span>, <span style=\"color: #00af00; text-decoration-color: #00af00\">400</span>)            │       <span style=\"color: #00af00; text-decoration-color: #00af00\">314,000</span> │\n",
       "├─────────────────────────────────┼────────────────────────┼───────────────┤\n",
       "│ dense_97 (<span style=\"color: #0087ff; text-decoration-color: #0087ff\">Dense</span>)                │ (<span style=\"color: #00d7ff; text-decoration-color: #00d7ff\">None</span>, <span style=\"color: #00af00; text-decoration-color: #00af00\">200</span>)            │        <span style=\"color: #00af00; text-decoration-color: #00af00\">80,200</span> │\n",
       "├─────────────────────────────────┼────────────────────────┼───────────────┤\n",
       "│ dense_98 (<span style=\"color: #0087ff; text-decoration-color: #0087ff\">Dense</span>)                │ (<span style=\"color: #00d7ff; text-decoration-color: #00d7ff\">None</span>, <span style=\"color: #00af00; text-decoration-color: #00af00\">10</span>)             │         <span style=\"color: #00af00; text-decoration-color: #00af00\">2,010</span> │\n",
       "└─────────────────────────────────┴────────────────────────┴───────────────┘\n",
       "</pre>\n"
      ],
      "text/plain": [
       "┏━━━━━━━━━━━━━━━━━━━━━━━━━━━━━━━━━┳━━━━━━━━━━━━━━━━━━━━━━━━┳━━━━━━━━━━━━━━━┓\n",
       "┃\u001b[1m \u001b[0m\u001b[1mLayer (type)                   \u001b[0m\u001b[1m \u001b[0m┃\u001b[1m \u001b[0m\u001b[1mOutput Shape          \u001b[0m\u001b[1m \u001b[0m┃\u001b[1m \u001b[0m\u001b[1m      Param #\u001b[0m\u001b[1m \u001b[0m┃\n",
       "┡━━━━━━━━━━━━━━━━━━━━━━━━━━━━━━━━━╇━━━━━━━━━━━━━━━━━━━━━━━━╇━━━━━━━━━━━━━━━┩\n",
       "│ flatten_31 (\u001b[38;5;33mFlatten\u001b[0m)            │ (\u001b[38;5;45mNone\u001b[0m, \u001b[38;5;34m784\u001b[0m)            │             \u001b[38;5;34m0\u001b[0m │\n",
       "├─────────────────────────────────┼────────────────────────┼───────────────┤\n",
       "│ dense_96 (\u001b[38;5;33mDense\u001b[0m)                │ (\u001b[38;5;45mNone\u001b[0m, \u001b[38;5;34m400\u001b[0m)            │       \u001b[38;5;34m314,000\u001b[0m │\n",
       "├─────────────────────────────────┼────────────────────────┼───────────────┤\n",
       "│ dense_97 (\u001b[38;5;33mDense\u001b[0m)                │ (\u001b[38;5;45mNone\u001b[0m, \u001b[38;5;34m200\u001b[0m)            │        \u001b[38;5;34m80,200\u001b[0m │\n",
       "├─────────────────────────────────┼────────────────────────┼───────────────┤\n",
       "│ dense_98 (\u001b[38;5;33mDense\u001b[0m)                │ (\u001b[38;5;45mNone\u001b[0m, \u001b[38;5;34m10\u001b[0m)             │         \u001b[38;5;34m2,010\u001b[0m │\n",
       "└─────────────────────────────────┴────────────────────────┴───────────────┘\n"
      ]
     },
     "metadata": {},
     "output_type": "display_data"
    },
    {
     "data": {
      "text/html": [
       "<pre style=\"white-space:pre;overflow-x:auto;line-height:normal;font-family:Menlo,'DejaVu Sans Mono',consolas,'Courier New',monospace\"><span style=\"font-weight: bold\"> Total params: </span><span style=\"color: #00af00; text-decoration-color: #00af00\">396,210</span> (1.51 MB)\n",
       "</pre>\n"
      ],
      "text/plain": [
       "\u001b[1m Total params: \u001b[0m\u001b[38;5;34m396,210\u001b[0m (1.51 MB)\n"
      ]
     },
     "metadata": {},
     "output_type": "display_data"
    },
    {
     "data": {
      "text/html": [
       "<pre style=\"white-space:pre;overflow-x:auto;line-height:normal;font-family:Menlo,'DejaVu Sans Mono',consolas,'Courier New',monospace\"><span style=\"font-weight: bold\"> Trainable params: </span><span style=\"color: #00af00; text-decoration-color: #00af00\">396,210</span> (1.51 MB)\n",
       "</pre>\n"
      ],
      "text/plain": [
       "\u001b[1m Trainable params: \u001b[0m\u001b[38;5;34m396,210\u001b[0m (1.51 MB)\n"
      ]
     },
     "metadata": {},
     "output_type": "display_data"
    },
    {
     "data": {
      "text/html": [
       "<pre style=\"white-space:pre;overflow-x:auto;line-height:normal;font-family:Menlo,'DejaVu Sans Mono',consolas,'Courier New',monospace\"><span style=\"font-weight: bold\"> Non-trainable params: </span><span style=\"color: #00af00; text-decoration-color: #00af00\">0</span> (0.00 B)\n",
       "</pre>\n"
      ],
      "text/plain": [
       "\u001b[1m Non-trainable params: \u001b[0m\u001b[38;5;34m0\u001b[0m (0.00 B)\n"
      ]
     },
     "metadata": {},
     "output_type": "display_data"
    },
    {
     "name": "stdout",
     "output_type": "stream",
     "text": [
      "Epoch 1/30\n",
      "\u001b[1m1688/1688\u001b[0m \u001b[32m━━━━━━━━━━━━━━━━━━━━\u001b[0m\u001b[37m\u001b[0m \u001b[1m5s\u001b[0m 3ms/step - accuracy: 0.7705 - loss: 0.7031 - val_accuracy: 0.8353 - val_loss: 0.4967\n",
      "Epoch 2/30\n",
      "\u001b[1m1688/1688\u001b[0m \u001b[32m━━━━━━━━━━━━━━━━━━━━\u001b[0m\u001b[37m\u001b[0m \u001b[1m5s\u001b[0m 3ms/step - accuracy: 0.8314 - loss: 0.4830 - val_accuracy: 0.8395 - val_loss: 0.4601\n",
      "Epoch 3/30\n",
      "\u001b[1m1688/1688\u001b[0m \u001b[32m━━━━━━━━━━━━━━━━━━━━\u001b[0m\u001b[37m\u001b[0m \u001b[1m5s\u001b[0m 3ms/step - accuracy: 0.8454 - loss: 0.4391 - val_accuracy: 0.8598 - val_loss: 0.4159\n",
      "Epoch 4/30\n",
      "\u001b[1m1688/1688\u001b[0m \u001b[32m━━━━━━━━━━━━━━━━━━━━\u001b[0m\u001b[37m\u001b[0m \u001b[1m5s\u001b[0m 3ms/step - accuracy: 0.8549 - loss: 0.4114 - val_accuracy: 0.8215 - val_loss: 0.4779\n",
      "Epoch 5/30\n",
      "\u001b[1m1688/1688\u001b[0m \u001b[32m━━━━━━━━━━━━━━━━━━━━\u001b[0m\u001b[37m\u001b[0m \u001b[1m5s\u001b[0m 3ms/step - accuracy: 0.8628 - loss: 0.3903 - val_accuracy: 0.8610 - val_loss: 0.3896\n",
      "Epoch 6/30\n",
      "\u001b[1m1688/1688\u001b[0m \u001b[32m━━━━━━━━━━━━━━━━━━━━\u001b[0m\u001b[37m\u001b[0m \u001b[1m4s\u001b[0m 3ms/step - accuracy: 0.8676 - loss: 0.3746 - val_accuracy: 0.8542 - val_loss: 0.4050\n",
      "Epoch 7/30\n",
      "\u001b[1m1688/1688\u001b[0m \u001b[32m━━━━━━━━━━━━━━━━━━━━\u001b[0m\u001b[37m\u001b[0m \u001b[1m5s\u001b[0m 3ms/step - accuracy: 0.8715 - loss: 0.3616 - val_accuracy: 0.8728 - val_loss: 0.3654\n",
      "Epoch 8/30\n",
      "\u001b[1m1688/1688\u001b[0m \u001b[32m━━━━━━━━━━━━━━━━━━━━\u001b[0m\u001b[37m\u001b[0m \u001b[1m5s\u001b[0m 3ms/step - accuracy: 0.8753 - loss: 0.3496 - val_accuracy: 0.8653 - val_loss: 0.3820\n",
      "Epoch 9/30\n",
      "\u001b[1m1688/1688\u001b[0m \u001b[32m━━━━━━━━━━━━━━━━━━━━\u001b[0m\u001b[37m\u001b[0m \u001b[1m5s\u001b[0m 3ms/step - accuracy: 0.8794 - loss: 0.3402 - val_accuracy: 0.8702 - val_loss: 0.3587\n",
      "Epoch 10/30\n",
      "\u001b[1m1688/1688\u001b[0m \u001b[32m━━━━━━━━━━━━━━━━━━━━\u001b[0m\u001b[37m\u001b[0m \u001b[1m5s\u001b[0m 3ms/step - accuracy: 0.8821 - loss: 0.3300 - val_accuracy: 0.8637 - val_loss: 0.3816\n",
      "Epoch 11/30\n",
      "\u001b[1m1688/1688\u001b[0m \u001b[32m━━━━━━━━━━━━━━━━━━━━\u001b[0m\u001b[37m\u001b[0m \u001b[1m5s\u001b[0m 3ms/step - accuracy: 0.8843 - loss: 0.3223 - val_accuracy: 0.8752 - val_loss: 0.3508\n",
      "Epoch 12/30\n",
      "\u001b[1m1688/1688\u001b[0m \u001b[32m━━━━━━━━━━━━━━━━━━━━\u001b[0m\u001b[37m\u001b[0m \u001b[1m5s\u001b[0m 3ms/step - accuracy: 0.8879 - loss: 0.3141 - val_accuracy: 0.8820 - val_loss: 0.3350\n",
      "Epoch 13/30\n",
      "\u001b[1m1688/1688\u001b[0m \u001b[32m━━━━━━━━━━━━━━━━━━━━\u001b[0m\u001b[37m\u001b[0m \u001b[1m5s\u001b[0m 3ms/step - accuracy: 0.8908 - loss: 0.3054 - val_accuracy: 0.8793 - val_loss: 0.3375\n",
      "Epoch 14/30\n",
      "\u001b[1m1688/1688\u001b[0m \u001b[32m━━━━━━━━━━━━━━━━━━━━\u001b[0m\u001b[37m\u001b[0m \u001b[1m5s\u001b[0m 3ms/step - accuracy: 0.8926 - loss: 0.2996 - val_accuracy: 0.8835 - val_loss: 0.3328\n",
      "Epoch 15/30\n",
      "\u001b[1m1688/1688\u001b[0m \u001b[32m━━━━━━━━━━━━━━━━━━━━\u001b[0m\u001b[37m\u001b[0m \u001b[1m5s\u001b[0m 3ms/step - accuracy: 0.8940 - loss: 0.2939 - val_accuracy: 0.8867 - val_loss: 0.3246\n",
      "Epoch 16/30\n",
      "\u001b[1m1688/1688\u001b[0m \u001b[32m━━━━━━━━━━━━━━━━━━━━\u001b[0m\u001b[37m\u001b[0m \u001b[1m5s\u001b[0m 3ms/step - accuracy: 0.8964 - loss: 0.2872 - val_accuracy: 0.8837 - val_loss: 0.3205\n",
      "Epoch 17/30\n",
      "\u001b[1m1688/1688\u001b[0m \u001b[32m━━━━━━━━━━━━━━━━━━━━\u001b[0m\u001b[37m\u001b[0m \u001b[1m6s\u001b[0m 3ms/step - accuracy: 0.8979 - loss: 0.2804 - val_accuracy: 0.8792 - val_loss: 0.3327\n",
      "Epoch 18/30\n",
      "\u001b[1m1688/1688\u001b[0m \u001b[32m━━━━━━━━━━━━━━━━━━━━\u001b[0m\u001b[37m\u001b[0m \u001b[1m6s\u001b[0m 4ms/step - accuracy: 0.8997 - loss: 0.2769 - val_accuracy: 0.8827 - val_loss: 0.3131\n",
      "Epoch 19/30\n",
      "\u001b[1m1688/1688\u001b[0m \u001b[32m━━━━━━━━━━━━━━━━━━━━\u001b[0m\u001b[37m\u001b[0m \u001b[1m6s\u001b[0m 3ms/step - accuracy: 0.9039 - loss: 0.2702 - val_accuracy: 0.8850 - val_loss: 0.3121\n",
      "Epoch 20/30\n",
      "\u001b[1m1688/1688\u001b[0m \u001b[32m━━━━━━━━━━━━━━━━━━━━\u001b[0m\u001b[37m\u001b[0m \u001b[1m6s\u001b[0m 3ms/step - accuracy: 0.9051 - loss: 0.2657 - val_accuracy: 0.8865 - val_loss: 0.3148\n",
      "Epoch 21/30\n",
      "\u001b[1m1688/1688\u001b[0m \u001b[32m━━━━━━━━━━━━━━━━━━━━\u001b[0m\u001b[37m\u001b[0m \u001b[1m6s\u001b[0m 3ms/step - accuracy: 0.9069 - loss: 0.2596 - val_accuracy: 0.8920 - val_loss: 0.3029\n",
      "Epoch 22/30\n",
      "\u001b[1m1688/1688\u001b[0m \u001b[32m━━━━━━━━━━━━━━━━━━━━\u001b[0m\u001b[37m\u001b[0m \u001b[1m5s\u001b[0m 3ms/step - accuracy: 0.9074 - loss: 0.2551 - val_accuracy: 0.8847 - val_loss: 0.3195\n",
      "Epoch 23/30\n",
      "\u001b[1m1688/1688\u001b[0m \u001b[32m━━━━━━━━━━━━━━━━━━━━\u001b[0m\u001b[37m\u001b[0m \u001b[1m5s\u001b[0m 3ms/step - accuracy: 0.9099 - loss: 0.2517 - val_accuracy: 0.8875 - val_loss: 0.3178\n",
      "Epoch 24/30\n",
      "\u001b[1m1688/1688\u001b[0m \u001b[32m━━━━━━━━━━━━━━━━━━━━\u001b[0m\u001b[37m\u001b[0m \u001b[1m5s\u001b[0m 3ms/step - accuracy: 0.9109 - loss: 0.2459 - val_accuracy: 0.8840 - val_loss: 0.3154\n",
      "Epoch 25/30\n",
      "\u001b[1m1688/1688\u001b[0m \u001b[32m━━━━━━━━━━━━━━━━━━━━\u001b[0m\u001b[37m\u001b[0m \u001b[1m6s\u001b[0m 3ms/step - accuracy: 0.9130 - loss: 0.2422 - val_accuracy: 0.8863 - val_loss: 0.3190\n",
      "Epoch 26/30\n",
      "\u001b[1m1688/1688\u001b[0m \u001b[32m━━━━━━━━━━━━━━━━━━━━\u001b[0m\u001b[37m\u001b[0m \u001b[1m5s\u001b[0m 3ms/step - accuracy: 0.9151 - loss: 0.2375 - val_accuracy: 0.8885 - val_loss: 0.3024\n",
      "Epoch 27/30\n",
      "\u001b[1m1688/1688\u001b[0m \u001b[32m━━━━━━━━━━━━━━━━━━━━\u001b[0m\u001b[37m\u001b[0m \u001b[1m6s\u001b[0m 3ms/step - accuracy: 0.9155 - loss: 0.2339 - val_accuracy: 0.8873 - val_loss: 0.3060\n",
      "Epoch 28/30\n",
      "\u001b[1m1688/1688\u001b[0m \u001b[32m━━━━━━━━━━━━━━━━━━━━\u001b[0m\u001b[37m\u001b[0m \u001b[1m5s\u001b[0m 3ms/step - accuracy: 0.9179 - loss: 0.2288 - val_accuracy: 0.8877 - val_loss: 0.3021\n",
      "Epoch 29/30\n",
      "\u001b[1m1688/1688\u001b[0m \u001b[32m━━━━━━━━━━━━━━━━━━━━\u001b[0m\u001b[37m\u001b[0m \u001b[1m5s\u001b[0m 3ms/step - accuracy: 0.9185 - loss: 0.2261 - val_accuracy: 0.8912 - val_loss: 0.3013\n",
      "Epoch 30/30\n",
      "\u001b[1m1688/1688\u001b[0m \u001b[32m━━━━━━━━━━━━━━━━━━━━\u001b[0m\u001b[37m\u001b[0m \u001b[1m5s\u001b[0m 3ms/step - accuracy: 0.9202 - loss: 0.2220 - val_accuracy: 0.8893 - val_loss: 0.3139\n",
      "\u001b[1m313/313\u001b[0m \u001b[32m━━━━━━━━━━━━━━━━━━━━\u001b[0m\u001b[37m\u001b[0m \u001b[1m0s\u001b[0m 1ms/step - accuracy: 0.8804 - loss: 0.3414\n",
      "Test accuracy: 0.8804\n",
      "Test loss: 0.3414\n"
     ]
    }
   ],
   "source": [
    "# 1. Define the model\n",
    "model = keras.models.Sequential([\n",
    "    keras.layers.Flatten(input_shape=[28, 28]),\n",
    "    keras.layers.Dense(400, activation=\"relu\"),\n",
    "    keras.layers.Dense(200, activation=\"relu\"),\n",
    "    keras.layers.Dense(10, activation=\"softmax\")\n",
    "])\n",
    "\n",
    "# 2. Compile the model\n",
    "model.compile(loss=\"sparse_categorical_crossentropy\",\n",
    "              optimizer=\"sgd\",\n",
    "              metrics=[\"accuracy\"])\n",
    "\n",
    "# 2.1 Summary check\n",
    "model.summary()\n",
    "\n",
    "# 3. Train the model\n",
    "history = model.fit(X_train, y_train,\n",
    "                    epochs=30,\n",
    "                    validation_data=(X_valid, y_valid))\n",
    "\n",
    "# 4. Evaluate on the test set\n",
    "test_loss, test_acc = model.evaluate(X_test, y_test)\n",
    "print(f\"Test accuracy: {test_acc:.4f}\")\n",
    "print(f\"Test loss: {test_loss:.4f}\")"
   ]
  },
  {
   "cell_type": "code",
   "execution_count": 11,
   "id": "441bc366-f4ca-43d9-aaba-113184b032b9",
   "metadata": {},
   "outputs": [],
   "source": [
    "# From these experiments we keep MLP 1 since the validation accuracy does not increase much with the other architectures and there's only\n",
    "# improvement in the training accuracy which might just be overfitting for the additional layers/neurons"
   ]
  },
  {
   "cell_type": "markdown",
   "id": "eba52e5e-c89b-45c4-9bd6-ae6fe2f9973e",
   "metadata": {},
   "source": [
    "### 2) Parameters exploration"
   ]
  },
  {
   "cell_type": "markdown",
   "id": "733c155e-c2ee-4ddd-8b2e-1f9dc36137bc",
   "metadata": {},
   "source": [
    "### 2.1) Model building function"
   ]
  },
  {
   "cell_type": "code",
   "execution_count": 19,
   "id": "fc01447a-a9ba-4ef2-8373-7b4aff4ee00c",
   "metadata": {},
   "outputs": [],
   "source": [
    "def build_mlp(\n",
    "    input_shape=(28, 28),\n",
    "    activation='relu',\n",
    "    optimizer='sgd',\n",
    "    dropout_rate=None,\n",
    "    l1_reg=None,\n",
    "    l2_reg=None,\n",
    "    initializer='glorot_uniform'\n",
    "):\n",
    "\n",
    "    # Regularizer\n",
    "    if l1_reg or l2_reg:\n",
    "        reg = keras.regularizers.L1L2(l1=l1_reg or 0.0, l2=l2_reg or 0.0)\n",
    "    else:\n",
    "        reg = None\n",
    "\n",
    "    # Define model with the MLP 1 architecture adding optional dropout layers\n",
    "    model = keras.models.Sequential()\n",
    "    model.add(keras.layers.Flatten(input_shape = input_shape))\n",
    "    model.add(keras.layers.Dense(300, activation = activation,\n",
    "                                kernel_regularizer = reg,\n",
    "                                kernel_initializer = initializer))\n",
    "    if dropout_rate:\n",
    "        model.add(keras.layers.Dropout(dropout_rate))\n",
    "    model.add(keras.layers.Dense(100, activation = activation,\n",
    "                                kernel_regularizer = reg,\n",
    "                                kernel_initializer = initializer))\n",
    "    if dropout_rate:\n",
    "        model.add(keras.layers.Dropout(dropout_rate))\n",
    "    model.add(keras.layers.Dense(10, activation = 'softmax'))\n",
    "    \n",
    "\n",
    "    # Compile model\n",
    "    model.compile(\n",
    "        loss = 'sparse_categorical_crossentropy',\n",
    "        optimizer = optimizer,\n",
    "        metrics = ['accuracy']\n",
    "    )\n",
    "\n",
    "    return model"
   ]
  },
  {
   "cell_type": "markdown",
   "id": "618a9532-ba86-47c0-a6ce-12903c9fe164",
   "metadata": {},
   "source": [
    "### 2.2) Parameter tunning effects"
   ]
  },
  {
   "cell_type": "code",
   "execution_count": 41,
   "id": "d34a3191-ba73-4c86-8368-eed508425049",
   "metadata": {},
   "outputs": [],
   "source": [
    "activation_list = ['relu',keras.layers.LeakyReLU(alpha=0.1),'tanh']\n",
    "optimizer_list = ['adam','sgd','rmsprop']\n",
    "dropout_rate_list = [None,0.2,0.3,0.5]\n",
    "l1_reg_list = [None,0.001,0.005]\n",
    "l2_reg_list = [None,0.001,0.005]"
   ]
  },
  {
   "cell_type": "code",
   "execution_count": 47,
   "id": "67ae1482-edf8-427f-a495-839d57e13ab6",
   "metadata": {},
   "outputs": [],
   "source": [
    "param_combinations = list(itertools.product(\n",
    "    activation_list,\n",
    "    optimizer_list,\n",
    "    dropout_rate_list,\n",
    "    l1_reg_list,\n",
    "    l2_reg_list\n",
    "))"
   ]
  },
  {
   "cell_type": "code",
   "execution_count": 51,
   "id": "f3df2730-ca24-4658-a4a7-c722a2580457",
   "metadata": {},
   "outputs": [
    {
     "data": {
      "text/plain": [
       "324"
      ]
     },
     "execution_count": 51,
     "metadata": {},
     "output_type": "execute_result"
    }
   ],
   "source": [
    "len(param_combinations)"
   ]
  },
  {
   "cell_type": "code",
   "execution_count": 56,
   "id": "ca85b8df-6523-497b-a8db-7e9020725087",
   "metadata": {
    "scrolled": true
   },
   "outputs": [
    {
     "data": {
      "text/html": [
       "<pre style=\"white-space:pre;overflow-x:auto;line-height:normal;font-family:Menlo,'DejaVu Sans Mono',consolas,'Courier New',monospace\"><span style=\"font-weight: bold\">Model: \"sequential_32\"</span>\n",
       "</pre>\n"
      ],
      "text/plain": [
       "\u001b[1mModel: \"sequential_32\"\u001b[0m\n"
      ]
     },
     "metadata": {},
     "output_type": "display_data"
    },
    {
     "data": {
      "text/html": [
       "<pre style=\"white-space:pre;overflow-x:auto;line-height:normal;font-family:Menlo,'DejaVu Sans Mono',consolas,'Courier New',monospace\">┏━━━━━━━━━━━━━━━━━━━━━━━━━━━━━━━━━┳━━━━━━━━━━━━━━━━━━━━━━━━┳━━━━━━━━━━━━━━━┓\n",
       "┃<span style=\"font-weight: bold\"> Layer (type)                    </span>┃<span style=\"font-weight: bold\"> Output Shape           </span>┃<span style=\"font-weight: bold\">       Param # </span>┃\n",
       "┡━━━━━━━━━━━━━━━━━━━━━━━━━━━━━━━━━╇━━━━━━━━━━━━━━━━━━━━━━━━╇━━━━━━━━━━━━━━━┩\n",
       "│ flatten_32 (<span style=\"color: #0087ff; text-decoration-color: #0087ff\">Flatten</span>)            │ (<span style=\"color: #00d7ff; text-decoration-color: #00d7ff\">None</span>, <span style=\"color: #00af00; text-decoration-color: #00af00\">784</span>)            │             <span style=\"color: #00af00; text-decoration-color: #00af00\">0</span> │\n",
       "├─────────────────────────────────┼────────────────────────┼───────────────┤\n",
       "│ dense_99 (<span style=\"color: #0087ff; text-decoration-color: #0087ff\">Dense</span>)                │ (<span style=\"color: #00d7ff; text-decoration-color: #00d7ff\">None</span>, <span style=\"color: #00af00; text-decoration-color: #00af00\">300</span>)            │       <span style=\"color: #00af00; text-decoration-color: #00af00\">235,500</span> │\n",
       "├─────────────────────────────────┼────────────────────────┼───────────────┤\n",
       "│ dropout_6 (<span style=\"color: #0087ff; text-decoration-color: #0087ff\">Dropout</span>)             │ (<span style=\"color: #00d7ff; text-decoration-color: #00d7ff\">None</span>, <span style=\"color: #00af00; text-decoration-color: #00af00\">300</span>)            │             <span style=\"color: #00af00; text-decoration-color: #00af00\">0</span> │\n",
       "├─────────────────────────────────┼────────────────────────┼───────────────┤\n",
       "│ dense_100 (<span style=\"color: #0087ff; text-decoration-color: #0087ff\">Dense</span>)               │ (<span style=\"color: #00d7ff; text-decoration-color: #00d7ff\">None</span>, <span style=\"color: #00af00; text-decoration-color: #00af00\">100</span>)            │        <span style=\"color: #00af00; text-decoration-color: #00af00\">30,100</span> │\n",
       "├─────────────────────────────────┼────────────────────────┼───────────────┤\n",
       "│ dropout_7 (<span style=\"color: #0087ff; text-decoration-color: #0087ff\">Dropout</span>)             │ (<span style=\"color: #00d7ff; text-decoration-color: #00d7ff\">None</span>, <span style=\"color: #00af00; text-decoration-color: #00af00\">100</span>)            │             <span style=\"color: #00af00; text-decoration-color: #00af00\">0</span> │\n",
       "├─────────────────────────────────┼────────────────────────┼───────────────┤\n",
       "│ dense_101 (<span style=\"color: #0087ff; text-decoration-color: #0087ff\">Dense</span>)               │ (<span style=\"color: #00d7ff; text-decoration-color: #00d7ff\">None</span>, <span style=\"color: #00af00; text-decoration-color: #00af00\">10</span>)             │         <span style=\"color: #00af00; text-decoration-color: #00af00\">1,010</span> │\n",
       "└─────────────────────────────────┴────────────────────────┴───────────────┘\n",
       "</pre>\n"
      ],
      "text/plain": [
       "┏━━━━━━━━━━━━━━━━━━━━━━━━━━━━━━━━━┳━━━━━━━━━━━━━━━━━━━━━━━━┳━━━━━━━━━━━━━━━┓\n",
       "┃\u001b[1m \u001b[0m\u001b[1mLayer (type)                   \u001b[0m\u001b[1m \u001b[0m┃\u001b[1m \u001b[0m\u001b[1mOutput Shape          \u001b[0m\u001b[1m \u001b[0m┃\u001b[1m \u001b[0m\u001b[1m      Param #\u001b[0m\u001b[1m \u001b[0m┃\n",
       "┡━━━━━━━━━━━━━━━━━━━━━━━━━━━━━━━━━╇━━━━━━━━━━━━━━━━━━━━━━━━╇━━━━━━━━━━━━━━━┩\n",
       "│ flatten_32 (\u001b[38;5;33mFlatten\u001b[0m)            │ (\u001b[38;5;45mNone\u001b[0m, \u001b[38;5;34m784\u001b[0m)            │             \u001b[38;5;34m0\u001b[0m │\n",
       "├─────────────────────────────────┼────────────────────────┼───────────────┤\n",
       "│ dense_99 (\u001b[38;5;33mDense\u001b[0m)                │ (\u001b[38;5;45mNone\u001b[0m, \u001b[38;5;34m300\u001b[0m)            │       \u001b[38;5;34m235,500\u001b[0m │\n",
       "├─────────────────────────────────┼────────────────────────┼───────────────┤\n",
       "│ dropout_6 (\u001b[38;5;33mDropout\u001b[0m)             │ (\u001b[38;5;45mNone\u001b[0m, \u001b[38;5;34m300\u001b[0m)            │             \u001b[38;5;34m0\u001b[0m │\n",
       "├─────────────────────────────────┼────────────────────────┼───────────────┤\n",
       "│ dense_100 (\u001b[38;5;33mDense\u001b[0m)               │ (\u001b[38;5;45mNone\u001b[0m, \u001b[38;5;34m100\u001b[0m)            │        \u001b[38;5;34m30,100\u001b[0m │\n",
       "├─────────────────────────────────┼────────────────────────┼───────────────┤\n",
       "│ dropout_7 (\u001b[38;5;33mDropout\u001b[0m)             │ (\u001b[38;5;45mNone\u001b[0m, \u001b[38;5;34m100\u001b[0m)            │             \u001b[38;5;34m0\u001b[0m │\n",
       "├─────────────────────────────────┼────────────────────────┼───────────────┤\n",
       "│ dense_101 (\u001b[38;5;33mDense\u001b[0m)               │ (\u001b[38;5;45mNone\u001b[0m, \u001b[38;5;34m10\u001b[0m)             │         \u001b[38;5;34m1,010\u001b[0m │\n",
       "└─────────────────────────────────┴────────────────────────┴───────────────┘\n"
      ]
     },
     "metadata": {},
     "output_type": "display_data"
    },
    {
     "data": {
      "text/html": [
       "<pre style=\"white-space:pre;overflow-x:auto;line-height:normal;font-family:Menlo,'DejaVu Sans Mono',consolas,'Courier New',monospace\"><span style=\"font-weight: bold\"> Total params: </span><span style=\"color: #00af00; text-decoration-color: #00af00\">266,610</span> (1.02 MB)\n",
       "</pre>\n"
      ],
      "text/plain": [
       "\u001b[1m Total params: \u001b[0m\u001b[38;5;34m266,610\u001b[0m (1.02 MB)\n"
      ]
     },
     "metadata": {},
     "output_type": "display_data"
    },
    {
     "data": {
      "text/html": [
       "<pre style=\"white-space:pre;overflow-x:auto;line-height:normal;font-family:Menlo,'DejaVu Sans Mono',consolas,'Courier New',monospace\"><span style=\"font-weight: bold\"> Trainable params: </span><span style=\"color: #00af00; text-decoration-color: #00af00\">266,610</span> (1.02 MB)\n",
       "</pre>\n"
      ],
      "text/plain": [
       "\u001b[1m Trainable params: \u001b[0m\u001b[38;5;34m266,610\u001b[0m (1.02 MB)\n"
      ]
     },
     "metadata": {},
     "output_type": "display_data"
    },
    {
     "data": {
      "text/html": [
       "<pre style=\"white-space:pre;overflow-x:auto;line-height:normal;font-family:Menlo,'DejaVu Sans Mono',consolas,'Courier New',monospace\"><span style=\"font-weight: bold\"> Non-trainable params: </span><span style=\"color: #00af00; text-decoration-color: #00af00\">0</span> (0.00 B)\n",
       "</pre>\n"
      ],
      "text/plain": [
       "\u001b[1m Non-trainable params: \u001b[0m\u001b[38;5;34m0\u001b[0m (0.00 B)\n"
      ]
     },
     "metadata": {},
     "output_type": "display_data"
    },
    {
     "name": "stdout",
     "output_type": "stream",
     "text": [
      "Epoch 1/30\n",
      "1688/1688 - 6s - 3ms/step - accuracy: 0.7089 - loss: 9.7085 - val_accuracy: 0.8060 - val_loss: 7.3130\n",
      "Epoch 2/30\n",
      "1688/1688 - 5s - 3ms/step - accuracy: 0.7900 - loss: 5.6334 - val_accuracy: 0.8243 - val_loss: 4.0605\n",
      "Epoch 3/30\n",
      "1688/1688 - 5s - 3ms/step - accuracy: 0.8001 - loss: 3.0605 - val_accuracy: 0.8010 - val_loss: 2.1842\n",
      "Epoch 4/30\n",
      "1688/1688 - 5s - 3ms/step - accuracy: 0.7920 - loss: 1.7719 - val_accuracy: 0.8055 - val_loss: 1.4342\n",
      "Epoch 5/30\n",
      "1688/1688 - 5s - 3ms/step - accuracy: 0.7857 - loss: 1.3359 - val_accuracy: 0.7932 - val_loss: 1.1927\n",
      "Epoch 6/30\n",
      "1688/1688 - 6s - 3ms/step - accuracy: 0.7861 - loss: 1.1585 - val_accuracy: 0.8028 - val_loss: 1.0512\n",
      "Epoch 7/30\n",
      "1688/1688 - 5s - 3ms/step - accuracy: 0.7908 - loss: 1.0547 - val_accuracy: 0.8175 - val_loss: 0.9508\n",
      "Epoch 8/30\n",
      "1688/1688 - 5s - 3ms/step - accuracy: 0.7920 - loss: 0.9888 - val_accuracy: 0.8187 - val_loss: 0.8947\n",
      "Epoch 9/30\n",
      "1688/1688 - 6s - 3ms/step - accuracy: 0.7954 - loss: 0.9426 - val_accuracy: 0.8185 - val_loss: 0.8587\n",
      "Epoch 10/30\n",
      "1688/1688 - 6s - 3ms/step - accuracy: 0.7969 - loss: 0.9116 - val_accuracy: 0.8160 - val_loss: 0.8454\n",
      "Epoch 11/30\n",
      "1688/1688 - 5s - 3ms/step - accuracy: 0.7985 - loss: 0.8887 - val_accuracy: 0.8222 - val_loss: 0.8056\n",
      "Epoch 12/30\n",
      "1688/1688 - 5s - 3ms/step - accuracy: 0.8011 - loss: 0.8680 - val_accuracy: 0.8248 - val_loss: 0.7896\n",
      "Epoch 13/30\n",
      "1688/1688 - 5s - 3ms/step - accuracy: 0.8003 - loss: 0.8581 - val_accuracy: 0.8083 - val_loss: 0.8178\n",
      "Epoch 14/30\n",
      "1688/1688 - 6s - 3ms/step - accuracy: 0.8034 - loss: 0.8455 - val_accuracy: 0.8217 - val_loss: 0.7929\n",
      "Epoch 15/30\n",
      "1688/1688 - 5s - 3ms/step - accuracy: 0.8027 - loss: 0.8363 - val_accuracy: 0.8348 - val_loss: 0.7538\n",
      "Epoch 16/30\n",
      "1688/1688 - 5s - 3ms/step - accuracy: 0.8059 - loss: 0.8273 - val_accuracy: 0.8225 - val_loss: 0.7724\n",
      "Epoch 17/30\n",
      "1688/1688 - 5s - 3ms/step - accuracy: 0.8055 - loss: 0.8222 - val_accuracy: 0.8350 - val_loss: 0.7443\n",
      "Epoch 18/30\n",
      "1688/1688 - 6s - 3ms/step - accuracy: 0.8058 - loss: 0.8188 - val_accuracy: 0.8348 - val_loss: 0.7448\n",
      "Epoch 19/30\n",
      "1688/1688 - 6s - 4ms/step - accuracy: 0.8071 - loss: 0.8121 - val_accuracy: 0.8297 - val_loss: 0.7425\n",
      "Epoch 20/30\n",
      "1688/1688 - 6s - 3ms/step - accuracy: 0.8077 - loss: 0.8076 - val_accuracy: 0.8350 - val_loss: 0.7262\n",
      "Epoch 21/30\n",
      "1688/1688 - 6s - 4ms/step - accuracy: 0.8083 - loss: 0.8058 - val_accuracy: 0.8275 - val_loss: 0.7508\n",
      "Epoch 22/30\n",
      "1688/1688 - 6s - 4ms/step - accuracy: 0.8091 - loss: 0.8006 - val_accuracy: 0.8352 - val_loss: 0.7265\n",
      "Epoch 23/30\n",
      "1688/1688 - 6s - 3ms/step - accuracy: 0.8097 - loss: 0.7992 - val_accuracy: 0.8242 - val_loss: 0.7599\n",
      "Epoch 24/30\n",
      "1688/1688 - 6s - 4ms/step - accuracy: 0.8090 - loss: 0.7970 - val_accuracy: 0.8320 - val_loss: 0.7267\n",
      "Epoch 25/30\n",
      "1688/1688 - 7s - 4ms/step - accuracy: 0.8116 - loss: 0.7901 - val_accuracy: 0.8317 - val_loss: 0.7343\n",
      "Epoch 26/30\n",
      "1688/1688 - 8s - 5ms/step - accuracy: 0.8105 - loss: 0.7901 - val_accuracy: 0.8338 - val_loss: 0.7182\n",
      "Epoch 27/30\n",
      "1688/1688 - 9s - 5ms/step - accuracy: 0.8114 - loss: 0.7843 - val_accuracy: 0.7497 - val_loss: 0.8392\n",
      "Epoch 28/30\n",
      "1688/1688 - 8s - 5ms/step - accuracy: 0.8131 - loss: 0.7852 - val_accuracy: 0.8233 - val_loss: 0.7410\n",
      "Epoch 29/30\n",
      "1688/1688 - 8s - 5ms/step - accuracy: 0.8109 - loss: 0.7821 - val_accuracy: 0.8338 - val_loss: 0.7205\n",
      "Epoch 30/30\n",
      "1688/1688 - 8s - 5ms/step - accuracy: 0.8134 - loss: 0.7771 - val_accuracy: 0.8400 - val_loss: 0.7086\n",
      "\u001b[1m313/313\u001b[0m \u001b[32m━━━━━━━━━━━━━━━━━━━━\u001b[0m\u001b[37m\u001b[0m \u001b[1m1s\u001b[0m 3ms/step - accuracy: 0.8226 - loss: 0.7381\n",
      "Test accuracy: 0.8226\n",
      "Test loss: 0.7381\n"
     ]
    },
    {
     "data": {
      "image/png": "[encoded data removed]",
      "text/plain": [
       "<Figure size 700x400 with 1 Axes>"
      ]
     },
     "metadata": {},
     "output_type": "display_data"
    }
   ],
   "source": [
    "# 1. Model creation\n",
    "model = build_mlp(activation = activation_list[1], \n",
    "                  optimizer = optimizer_list[1],\n",
    "                  dropout_rate=dropout_rate_list[1], \n",
    "                  l1_reg=l1_reg_list[1],\n",
    "                  l2_reg=l2_reg_list[1]\n",
    "                 )\n",
    "\n",
    "\n",
    "\n",
    "# 1.1 Summary check\n",
    "model.summary()\n",
    "\n",
    "#1.2 Early stop\n",
    "early_stop = EarlyStopping(\n",
    "    monitor='val_loss', \n",
    "    patience=3, \n",
    "    restore_best_weights=True\n",
    ")\n",
    "\n",
    "# 2. Model training\n",
    "history = model.fit(X_train, y_train, epochs=30, validation_data=(X_valid, y_valid), verbose=2)\n",
    "\n",
    "# 3. Model testing\n",
    "test_loss, test_acc = model.evaluate(X_test, y_test)\n",
    "print(f\"Test accuracy: {test_acc:.4f}\")\n",
    "print(f\"Test loss: {test_loss:.4f}\")\n",
    "\n",
    "# 4. Plot learning curves\n",
    "plt.figure(figsize=(7,4))\n",
    "plt.plot(history.history[\"accuracy\"], label=\"train acc\")\n",
    "plt.plot(history.history[\"val_accuracy\"], label=\"val acc\")\n",
    "plt.title(\"Training and Validation Accuracy\")\n",
    "plt.xlabel(\"Epoch\")\n",
    "plt.ylabel(\"Accuracy\")\n",
    "plt.legend()\n",
    "plt.grid(True)\n",
    "plt.show()"
   ]
  },
  {
   "cell_type": "code",
   "execution_count": 57,
   "id": "33f50ccc-a4c5-4fb5-9ae7-edef9320014d",
   "metadata": {
    "scrolled": true
   },
   "outputs": [
    {
     "data": {
      "text/html": [
       "<pre style=\"white-space:pre;overflow-x:auto;line-height:normal;font-family:Menlo,'DejaVu Sans Mono',consolas,'Courier New',monospace\"><span style=\"font-weight: bold\">Model: \"sequential_33\"</span>\n",
       "</pre>\n"
      ],
      "text/plain": [
       "\u001b[1mModel: \"sequential_33\"\u001b[0m\n"
      ]
     },
     "metadata": {},
     "output_type": "display_data"
    },
    {
     "data": {
      "text/html": [
       "<pre style=\"white-space:pre;overflow-x:auto;line-height:normal;font-family:Menlo,'DejaVu Sans Mono',consolas,'Courier New',monospace\">┏━━━━━━━━━━━━━━━━━━━━━━━━━━━━━━━━━┳━━━━━━━━━━━━━━━━━━━━━━━━┳━━━━━━━━━━━━━━━┓\n",
       "┃<span style=\"font-weight: bold\"> Layer (type)                    </span>┃<span style=\"font-weight: bold\"> Output Shape           </span>┃<span style=\"font-weight: bold\">       Param # </span>┃\n",
       "┡━━━━━━━━━━━━━━━━━━━━━━━━━━━━━━━━━╇━━━━━━━━━━━━━━━━━━━━━━━━╇━━━━━━━━━━━━━━━┩\n",
       "│ flatten_33 (<span style=\"color: #0087ff; text-decoration-color: #0087ff\">Flatten</span>)            │ (<span style=\"color: #00d7ff; text-decoration-color: #00d7ff\">None</span>, <span style=\"color: #00af00; text-decoration-color: #00af00\">784</span>)            │             <span style=\"color: #00af00; text-decoration-color: #00af00\">0</span> │\n",
       "├─────────────────────────────────┼────────────────────────┼───────────────┤\n",
       "│ dense_102 (<span style=\"color: #0087ff; text-decoration-color: #0087ff\">Dense</span>)               │ (<span style=\"color: #00d7ff; text-decoration-color: #00d7ff\">None</span>, <span style=\"color: #00af00; text-decoration-color: #00af00\">300</span>)            │       <span style=\"color: #00af00; text-decoration-color: #00af00\">235,500</span> │\n",
       "├─────────────────────────────────┼────────────────────────┼───────────────┤\n",
       "│ dense_103 (<span style=\"color: #0087ff; text-decoration-color: #0087ff\">Dense</span>)               │ (<span style=\"color: #00d7ff; text-decoration-color: #00d7ff\">None</span>, <span style=\"color: #00af00; text-decoration-color: #00af00\">100</span>)            │        <span style=\"color: #00af00; text-decoration-color: #00af00\">30,100</span> │\n",
       "├─────────────────────────────────┼────────────────────────┼───────────────┤\n",
       "│ dense_104 (<span style=\"color: #0087ff; text-decoration-color: #0087ff\">Dense</span>)               │ (<span style=\"color: #00d7ff; text-decoration-color: #00d7ff\">None</span>, <span style=\"color: #00af00; text-decoration-color: #00af00\">10</span>)             │         <span style=\"color: #00af00; text-decoration-color: #00af00\">1,010</span> │\n",
       "└─────────────────────────────────┴────────────────────────┴───────────────┘\n",
       "</pre>\n"
      ],
      "text/plain": [
       "┏━━━━━━━━━━━━━━━━━━━━━━━━━━━━━━━━━┳━━━━━━━━━━━━━━━━━━━━━━━━┳━━━━━━━━━━━━━━━┓\n",
       "┃\u001b[1m \u001b[0m\u001b[1mLayer (type)                   \u001b[0m\u001b[1m \u001b[0m┃\u001b[1m \u001b[0m\u001b[1mOutput Shape          \u001b[0m\u001b[1m \u001b[0m┃\u001b[1m \u001b[0m\u001b[1m      Param #\u001b[0m\u001b[1m \u001b[0m┃\n",
       "┡━━━━━━━━━━━━━━━━━━━━━━━━━━━━━━━━━╇━━━━━━━━━━━━━━━━━━━━━━━━╇━━━━━━━━━━━━━━━┩\n",
       "│ flatten_33 (\u001b[38;5;33mFlatten\u001b[0m)            │ (\u001b[38;5;45mNone\u001b[0m, \u001b[38;5;34m784\u001b[0m)            │             \u001b[38;5;34m0\u001b[0m │\n",
       "├─────────────────────────────────┼────────────────────────┼───────────────┤\n",
       "│ dense_102 (\u001b[38;5;33mDense\u001b[0m)               │ (\u001b[38;5;45mNone\u001b[0m, \u001b[38;5;34m300\u001b[0m)            │       \u001b[38;5;34m235,500\u001b[0m │\n",
       "├─────────────────────────────────┼────────────────────────┼───────────────┤\n",
       "│ dense_103 (\u001b[38;5;33mDense\u001b[0m)               │ (\u001b[38;5;45mNone\u001b[0m, \u001b[38;5;34m100\u001b[0m)            │        \u001b[38;5;34m30,100\u001b[0m │\n",
       "├─────────────────────────────────┼────────────────────────┼───────────────┤\n",
       "│ dense_104 (\u001b[38;5;33mDense\u001b[0m)               │ (\u001b[38;5;45mNone\u001b[0m, \u001b[38;5;34m10\u001b[0m)             │         \u001b[38;5;34m1,010\u001b[0m │\n",
       "└─────────────────────────────────┴────────────────────────┴───────────────┘\n"
      ]
     },
     "metadata": {},
     "output_type": "display_data"
    },
    {
     "data": {
      "text/html": [
       "<pre style=\"white-space:pre;overflow-x:auto;line-height:normal;font-family:Menlo,'DejaVu Sans Mono',consolas,'Courier New',monospace\"><span style=\"font-weight: bold\"> Total params: </span><span style=\"color: #00af00; text-decoration-color: #00af00\">266,610</span> (1.02 MB)\n",
       "</pre>\n"
      ],
      "text/plain": [
       "\u001b[1m Total params: \u001b[0m\u001b[38;5;34m266,610\u001b[0m (1.02 MB)\n"
      ]
     },
     "metadata": {},
     "output_type": "display_data"
    },
    {
     "data": {
      "text/html": [
       "<pre style=\"white-space:pre;overflow-x:auto;line-height:normal;font-family:Menlo,'DejaVu Sans Mono',consolas,'Courier New',monospace\"><span style=\"font-weight: bold\"> Trainable params: </span><span style=\"color: #00af00; text-decoration-color: #00af00\">266,610</span> (1.02 MB)\n",
       "</pre>\n"
      ],
      "text/plain": [
       "\u001b[1m Trainable params: \u001b[0m\u001b[38;5;34m266,610\u001b[0m (1.02 MB)\n"
      ]
     },
     "metadata": {},
     "output_type": "display_data"
    },
    {
     "data": {
      "text/html": [
       "<pre style=\"white-space:pre;overflow-x:auto;line-height:normal;font-family:Menlo,'DejaVu Sans Mono',consolas,'Courier New',monospace\"><span style=\"font-weight: bold\"> Non-trainable params: </span><span style=\"color: #00af00; text-decoration-color: #00af00\">0</span> (0.00 B)\n",
       "</pre>\n"
      ],
      "text/plain": [
       "\u001b[1m Non-trainable params: \u001b[0m\u001b[38;5;34m0\u001b[0m (0.00 B)\n"
      ]
     },
     "metadata": {},
     "output_type": "display_data"
    },
    {
     "name": "stdout",
     "output_type": "stream",
     "text": [
      "Epoch 1/30\n",
      "1688/1688 - 8s - 5ms/step - accuracy: 0.7612 - loss: 0.7166 - val_accuracy: 0.8267 - val_loss: 0.5176\n",
      "Epoch 2/30\n",
      "1688/1688 - 7s - 4ms/step - accuracy: 0.8276 - loss: 0.4920 - val_accuracy: 0.8082 - val_loss: 0.5308\n",
      "Epoch 3/30\n",
      "1688/1688 - 6s - 4ms/step - accuracy: 0.8431 - loss: 0.4493 - val_accuracy: 0.8465 - val_loss: 0.4334\n",
      "Epoch 4/30\n",
      "1688/1688 - 7s - 4ms/step - accuracy: 0.8519 - loss: 0.4224 - val_accuracy: 0.8597 - val_loss: 0.4108\n",
      "Epoch 5/30\n",
      "1688/1688 - 7s - 4ms/step - accuracy: 0.8598 - loss: 0.4029 - val_accuracy: 0.8477 - val_loss: 0.4325\n",
      "Epoch 6/30\n",
      "1688/1688 - 7s - 4ms/step - accuracy: 0.8633 - loss: 0.3876 - val_accuracy: 0.8627 - val_loss: 0.3853\n",
      "Epoch 7/30\n",
      "1688/1688 - 6s - 4ms/step - accuracy: 0.8692 - loss: 0.3740 - val_accuracy: 0.8692 - val_loss: 0.3723\n",
      "Epoch 8/30\n",
      "1688/1688 - 6s - 4ms/step - accuracy: 0.8717 - loss: 0.3626 - val_accuracy: 0.8672 - val_loss: 0.3789\n",
      "Epoch 9/30\n",
      "1688/1688 - 6s - 4ms/step - accuracy: 0.8746 - loss: 0.3524 - val_accuracy: 0.8755 - val_loss: 0.3617\n",
      "Epoch 10/30\n",
      "1688/1688 - 7s - 4ms/step - accuracy: 0.8774 - loss: 0.3447 - val_accuracy: 0.8710 - val_loss: 0.3610\n",
      "Epoch 11/30\n",
      "1688/1688 - 6s - 4ms/step - accuracy: 0.8803 - loss: 0.3357 - val_accuracy: 0.8747 - val_loss: 0.3522\n",
      "Epoch 12/30\n",
      "1688/1688 - 6s - 4ms/step - accuracy: 0.8836 - loss: 0.3274 - val_accuracy: 0.8793 - val_loss: 0.3518\n",
      "Epoch 13/30\n",
      "1688/1688 - 6s - 4ms/step - accuracy: 0.8857 - loss: 0.3200 - val_accuracy: 0.8743 - val_loss: 0.3467\n",
      "Epoch 14/30\n",
      "1688/1688 - 6s - 4ms/step - accuracy: 0.8886 - loss: 0.3125 - val_accuracy: 0.8727 - val_loss: 0.3566\n",
      "Epoch 15/30\n",
      "1688/1688 - 7s - 4ms/step - accuracy: 0.8901 - loss: 0.3073 - val_accuracy: 0.8792 - val_loss: 0.3409\n",
      "Epoch 16/30\n",
      "1688/1688 - 6s - 3ms/step - accuracy: 0.8924 - loss: 0.3001 - val_accuracy: 0.8820 - val_loss: 0.3233\n",
      "Epoch 17/30\n",
      "1688/1688 - 6s - 3ms/step - accuracy: 0.8940 - loss: 0.2952 - val_accuracy: 0.8767 - val_loss: 0.3504\n",
      "Epoch 18/30\n",
      "1688/1688 - 6s - 3ms/step - accuracy: 0.8962 - loss: 0.2883 - val_accuracy: 0.8867 - val_loss: 0.3289\n",
      "Epoch 19/30\n",
      "1688/1688 - 6s - 3ms/step - accuracy: 0.8965 - loss: 0.2844 - val_accuracy: 0.8853 - val_loss: 0.3263\n",
      "Epoch 20/30\n",
      "1688/1688 - 6s - 3ms/step - accuracy: 0.8994 - loss: 0.2795 - val_accuracy: 0.8842 - val_loss: 0.3194\n",
      "Epoch 21/30\n",
      "1688/1688 - 6s - 3ms/step - accuracy: 0.9008 - loss: 0.2749 - val_accuracy: 0.8800 - val_loss: 0.3280\n",
      "Epoch 22/30\n",
      "1688/1688 - 6s - 3ms/step - accuracy: 0.9025 - loss: 0.2692 - val_accuracy: 0.8775 - val_loss: 0.3413\n",
      "Epoch 23/30\n",
      "1688/1688 - 6s - 3ms/step - accuracy: 0.9041 - loss: 0.2650 - val_accuracy: 0.8742 - val_loss: 0.3364\n",
      "Epoch 24/30\n",
      "1688/1688 - 6s - 4ms/step - accuracy: 0.9052 - loss: 0.2616 - val_accuracy: 0.8855 - val_loss: 0.3245\n",
      "Epoch 25/30\n",
      "1688/1688 - 6s - 4ms/step - accuracy: 0.9078 - loss: 0.2569 - val_accuracy: 0.8863 - val_loss: 0.3202\n",
      "Epoch 26/30\n",
      "1688/1688 - 7s - 4ms/step - accuracy: 0.9074 - loss: 0.2536 - val_accuracy: 0.8843 - val_loss: 0.3112\n",
      "Epoch 27/30\n",
      "1688/1688 - 7s - 4ms/step - accuracy: 0.9097 - loss: 0.2487 - val_accuracy: 0.8825 - val_loss: 0.3113\n",
      "Epoch 28/30\n",
      "1688/1688 - 6s - 4ms/step - accuracy: 0.9124 - loss: 0.2447 - val_accuracy: 0.8913 - val_loss: 0.3067\n",
      "Epoch 29/30\n",
      "1688/1688 - 6s - 3ms/step - accuracy: 0.9131 - loss: 0.2418 - val_accuracy: 0.8750 - val_loss: 0.3570\n",
      "Epoch 30/30\n",
      "1688/1688 - 6s - 3ms/step - accuracy: 0.9153 - loss: 0.2377 - val_accuracy: 0.8892 - val_loss: 0.2990\n",
      "\u001b[1m313/313\u001b[0m \u001b[32m━━━━━━━━━━━━━━━━━━━━\u001b[0m\u001b[37m\u001b[0m \u001b[1m1s\u001b[0m 2ms/step - accuracy: 0.8794 - loss: 0.3353\n",
      "Test accuracy: 0.8794\n",
      "Test loss: 0.3353\n"
     ]
    },
    {
     "data": {
      "image/png": "[encoded data removed]",
      "text/plain": [
       "<Figure size 700x400 with 1 Axes>"
      ]
     },
     "metadata": {},
     "output_type": "display_data"
    }
   ],
   "source": [
    "# 1. Model creation\n",
    "model = build_mlp(activation = activation_list[1], \n",
    "                  optimizer = optimizer_list[1],\n",
    "                  dropout_rate=None, \n",
    "                  l1_reg=None,\n",
    "                  l2_reg=None\n",
    "                 )\n",
    "\n",
    "\n",
    "\n",
    "# 1.1 Summary check\n",
    "model.summary()\n",
    "\n",
    "#1.2 Early stop\n",
    "early_stop = EarlyStopping(\n",
    "    monitor='val_loss', \n",
    "    patience=3, \n",
    "    restore_best_weights=True\n",
    ")\n",
    "\n",
    "# 2. Model training\n",
    "history = model.fit(X_train, y_train, epochs=30, validation_data=(X_valid, y_valid), verbose=2)\n",
    "\n",
    "# 3. Model testing\n",
    "test_loss, test_acc = model.evaluate(X_test, y_test)\n",
    "print(f\"Test accuracy: {test_acc:.4f}\")\n",
    "print(f\"Test loss: {test_loss:.4f}\")\n",
    "\n",
    "# 4. Plot learning curves\n",
    "plt.figure(figsize=(7,4))\n",
    "plt.plot(history.history[\"accuracy\"], label=\"train acc\")\n",
    "plt.plot(history.history[\"val_accuracy\"], label=\"val acc\")\n",
    "plt.title(\"Training and Validation Accuracy\")\n",
    "plt.xlabel(\"Epoch\")\n",
    "plt.ylabel(\"Accuracy\")\n",
    "plt.legend()\n",
    "plt.grid(True)\n",
    "plt.show()"
   ]
  },
  {
   "cell_type": "code",
   "execution_count": 58,
   "id": "4e7a2f2b-d368-4b78-99b4-c53847a094b4",
   "metadata": {},
   "outputs": [
    {
     "data": {
      "text/html": [
       "<pre style=\"white-space:pre;overflow-x:auto;line-height:normal;font-family:Menlo,'DejaVu Sans Mono',consolas,'Courier New',monospace\"><span style=\"font-weight: bold\">Model: \"sequential_34\"</span>\n",
       "</pre>\n"
      ],
      "text/plain": [
       "\u001b[1mModel: \"sequential_34\"\u001b[0m\n"
      ]
     },
     "metadata": {},
     "output_type": "display_data"
    },
    {
     "data": {
      "text/html": [
       "<pre style=\"white-space:pre;overflow-x:auto;line-height:normal;font-family:Menlo,'DejaVu Sans Mono',consolas,'Courier New',monospace\">┏━━━━━━━━━━━━━━━━━━━━━━━━━━━━━━━━━┳━━━━━━━━━━━━━━━━━━━━━━━━┳━━━━━━━━━━━━━━━┓\n",
       "┃<span style=\"font-weight: bold\"> Layer (type)                    </span>┃<span style=\"font-weight: bold\"> Output Shape           </span>┃<span style=\"font-weight: bold\">       Param # </span>┃\n",
       "┡━━━━━━━━━━━━━━━━━━━━━━━━━━━━━━━━━╇━━━━━━━━━━━━━━━━━━━━━━━━╇━━━━━━━━━━━━━━━┩\n",
       "│ flatten_34 (<span style=\"color: #0087ff; text-decoration-color: #0087ff\">Flatten</span>)            │ (<span style=\"color: #00d7ff; text-decoration-color: #00d7ff\">None</span>, <span style=\"color: #00af00; text-decoration-color: #00af00\">784</span>)            │             <span style=\"color: #00af00; text-decoration-color: #00af00\">0</span> │\n",
       "├─────────────────────────────────┼────────────────────────┼───────────────┤\n",
       "│ dense_105 (<span style=\"color: #0087ff; text-decoration-color: #0087ff\">Dense</span>)               │ (<span style=\"color: #00d7ff; text-decoration-color: #00d7ff\">None</span>, <span style=\"color: #00af00; text-decoration-color: #00af00\">300</span>)            │       <span style=\"color: #00af00; text-decoration-color: #00af00\">235,500</span> │\n",
       "├─────────────────────────────────┼────────────────────────┼───────────────┤\n",
       "│ dense_106 (<span style=\"color: #0087ff; text-decoration-color: #0087ff\">Dense</span>)               │ (<span style=\"color: #00d7ff; text-decoration-color: #00d7ff\">None</span>, <span style=\"color: #00af00; text-decoration-color: #00af00\">100</span>)            │        <span style=\"color: #00af00; text-decoration-color: #00af00\">30,100</span> │\n",
       "├─────────────────────────────────┼────────────────────────┼───────────────┤\n",
       "│ dense_107 (<span style=\"color: #0087ff; text-decoration-color: #0087ff\">Dense</span>)               │ (<span style=\"color: #00d7ff; text-decoration-color: #00d7ff\">None</span>, <span style=\"color: #00af00; text-decoration-color: #00af00\">10</span>)             │         <span style=\"color: #00af00; text-decoration-color: #00af00\">1,010</span> │\n",
       "└─────────────────────────────────┴────────────────────────┴───────────────┘\n",
       "</pre>\n"
      ],
      "text/plain": [
       "┏━━━━━━━━━━━━━━━━━━━━━━━━━━━━━━━━━┳━━━━━━━━━━━━━━━━━━━━━━━━┳━━━━━━━━━━━━━━━┓\n",
       "┃\u001b[1m \u001b[0m\u001b[1mLayer (type)                   \u001b[0m\u001b[1m \u001b[0m┃\u001b[1m \u001b[0m\u001b[1mOutput Shape          \u001b[0m\u001b[1m \u001b[0m┃\u001b[1m \u001b[0m\u001b[1m      Param #\u001b[0m\u001b[1m \u001b[0m┃\n",
       "┡━━━━━━━━━━━━━━━━━━━━━━━━━━━━━━━━━╇━━━━━━━━━━━━━━━━━━━━━━━━╇━━━━━━━━━━━━━━━┩\n",
       "│ flatten_34 (\u001b[38;5;33mFlatten\u001b[0m)            │ (\u001b[38;5;45mNone\u001b[0m, \u001b[38;5;34m784\u001b[0m)            │             \u001b[38;5;34m0\u001b[0m │\n",
       "├─────────────────────────────────┼────────────────────────┼───────────────┤\n",
       "│ dense_105 (\u001b[38;5;33mDense\u001b[0m)               │ (\u001b[38;5;45mNone\u001b[0m, \u001b[38;5;34m300\u001b[0m)            │       \u001b[38;5;34m235,500\u001b[0m │\n",
       "├─────────────────────────────────┼────────────────────────┼───────────────┤\n",
       "│ dense_106 (\u001b[38;5;33mDense\u001b[0m)               │ (\u001b[38;5;45mNone\u001b[0m, \u001b[38;5;34m100\u001b[0m)            │        \u001b[38;5;34m30,100\u001b[0m │\n",
       "├─────────────────────────────────┼────────────────────────┼───────────────┤\n",
       "│ dense_107 (\u001b[38;5;33mDense\u001b[0m)               │ (\u001b[38;5;45mNone\u001b[0m, \u001b[38;5;34m10\u001b[0m)             │         \u001b[38;5;34m1,010\u001b[0m │\n",
       "└─────────────────────────────────┴────────────────────────┴───────────────┘\n"
      ]
     },
     "metadata": {},
     "output_type": "display_data"
    },
    {
     "data": {
      "text/html": [
       "<pre style=\"white-space:pre;overflow-x:auto;line-height:normal;font-family:Menlo,'DejaVu Sans Mono',consolas,'Courier New',monospace\"><span style=\"font-weight: bold\"> Total params: </span><span style=\"color: #00af00; text-decoration-color: #00af00\">266,610</span> (1.02 MB)\n",
       "</pre>\n"
      ],
      "text/plain": [
       "\u001b[1m Total params: \u001b[0m\u001b[38;5;34m266,610\u001b[0m (1.02 MB)\n"
      ]
     },
     "metadata": {},
     "output_type": "display_data"
    },
    {
     "data": {
      "text/html": [
       "<pre style=\"white-space:pre;overflow-x:auto;line-height:normal;font-family:Menlo,'DejaVu Sans Mono',consolas,'Courier New',monospace\"><span style=\"font-weight: bold\"> Trainable params: </span><span style=\"color: #00af00; text-decoration-color: #00af00\">266,610</span> (1.02 MB)\n",
       "</pre>\n"
      ],
      "text/plain": [
       "\u001b[1m Trainable params: \u001b[0m\u001b[38;5;34m266,610\u001b[0m (1.02 MB)\n"
      ]
     },
     "metadata": {},
     "output_type": "display_data"
    },
    {
     "data": {
      "text/html": [
       "<pre style=\"white-space:pre;overflow-x:auto;line-height:normal;font-family:Menlo,'DejaVu Sans Mono',consolas,'Courier New',monospace\"><span style=\"font-weight: bold\"> Non-trainable params: </span><span style=\"color: #00af00; text-decoration-color: #00af00\">0</span> (0.00 B)\n",
       "</pre>\n"
      ],
      "text/plain": [
       "\u001b[1m Non-trainable params: \u001b[0m\u001b[38;5;34m0\u001b[0m (0.00 B)\n"
      ]
     },
     "metadata": {},
     "output_type": "display_data"
    },
    {
     "name": "stdout",
     "output_type": "stream",
     "text": [
      "Epoch 1/30\n",
      "1688/1688 - 6s - 4ms/step - accuracy: 0.7773 - loss: 0.6677 - val_accuracy: 0.8338 - val_loss: 0.4954\n",
      "Epoch 2/30\n",
      "1688/1688 - 5s - 3ms/step - accuracy: 0.8340 - loss: 0.4700 - val_accuracy: 0.8443 - val_loss: 0.4428\n",
      "Epoch 3/30\n",
      "1688/1688 - 5s - 3ms/step - accuracy: 0.8468 - loss: 0.4314 - val_accuracy: 0.8533 - val_loss: 0.4190\n",
      "Epoch 4/30\n",
      "1688/1688 - 5s - 3ms/step - accuracy: 0.8539 - loss: 0.4095 - val_accuracy: 0.8553 - val_loss: 0.4140\n",
      "Epoch 5/30\n",
      "1688/1688 - 5s - 3ms/step - accuracy: 0.8597 - loss: 0.3936 - val_accuracy: 0.8650 - val_loss: 0.3871\n",
      "Epoch 6/30\n",
      "1688/1688 - 5s - 3ms/step - accuracy: 0.8640 - loss: 0.3804 - val_accuracy: 0.8595 - val_loss: 0.3971\n",
      "Epoch 7/30\n",
      "1688/1688 - 5s - 3ms/step - accuracy: 0.8677 - loss: 0.3699 - val_accuracy: 0.8675 - val_loss: 0.3816\n",
      "Epoch 8/30\n",
      "1688/1688 - 5s - 3ms/step - accuracy: 0.8696 - loss: 0.3608 - val_accuracy: 0.8677 - val_loss: 0.3707\n",
      "Epoch 9/30\n",
      "1688/1688 - 5s - 3ms/step - accuracy: 0.8730 - loss: 0.3528 - val_accuracy: 0.8692 - val_loss: 0.3628\n",
      "Epoch 10/30\n",
      "1688/1688 - 5s - 3ms/step - accuracy: 0.8760 - loss: 0.3454 - val_accuracy: 0.8725 - val_loss: 0.3593\n",
      "Epoch 11/30\n",
      "1688/1688 - 5s - 3ms/step - accuracy: 0.8780 - loss: 0.3392 - val_accuracy: 0.8750 - val_loss: 0.3507\n",
      "Epoch 12/30\n",
      "1688/1688 - 5s - 3ms/step - accuracy: 0.8813 - loss: 0.3330 - val_accuracy: 0.8740 - val_loss: 0.3532\n",
      "Epoch 13/30\n",
      "1688/1688 - 5s - 3ms/step - accuracy: 0.8826 - loss: 0.3267 - val_accuracy: 0.8715 - val_loss: 0.3532\n",
      "Epoch 14/30\n",
      "1688/1688 - 5s - 3ms/step - accuracy: 0.8846 - loss: 0.3218 - val_accuracy: 0.8717 - val_loss: 0.3605\n",
      "Epoch 15/30\n",
      "1688/1688 - 5s - 3ms/step - accuracy: 0.8864 - loss: 0.3173 - val_accuracy: 0.8792 - val_loss: 0.3374\n",
      "Epoch 16/30\n",
      "1688/1688 - 5s - 3ms/step - accuracy: 0.8889 - loss: 0.3126 - val_accuracy: 0.8752 - val_loss: 0.3433\n",
      "Epoch 17/30\n",
      "1688/1688 - 5s - 3ms/step - accuracy: 0.8898 - loss: 0.3070 - val_accuracy: 0.8788 - val_loss: 0.3347\n",
      "Epoch 18/30\n",
      "1688/1688 - 5s - 3ms/step - accuracy: 0.8907 - loss: 0.3033 - val_accuracy: 0.8762 - val_loss: 0.3438\n",
      "Epoch 19/30\n",
      "1688/1688 - 5s - 3ms/step - accuracy: 0.8924 - loss: 0.2996 - val_accuracy: 0.8763 - val_loss: 0.3461\n",
      "Epoch 20/30\n",
      "1688/1688 - 5s - 3ms/step - accuracy: 0.8936 - loss: 0.2950 - val_accuracy: 0.8798 - val_loss: 0.3259\n",
      "Epoch 21/30\n",
      "1688/1688 - 5s - 3ms/step - accuracy: 0.8954 - loss: 0.2914 - val_accuracy: 0.8778 - val_loss: 0.3262\n",
      "Epoch 22/30\n",
      "1688/1688 - 5s - 3ms/step - accuracy: 0.8959 - loss: 0.2882 - val_accuracy: 0.8788 - val_loss: 0.3379\n",
      "Epoch 23/30\n",
      "1688/1688 - 6s - 3ms/step - accuracy: 0.8976 - loss: 0.2842 - val_accuracy: 0.8812 - val_loss: 0.3322\n",
      "Epoch 24/30\n",
      "1688/1688 - 5s - 3ms/step - accuracy: 0.8992 - loss: 0.2807 - val_accuracy: 0.8798 - val_loss: 0.3302\n",
      "Epoch 25/30\n",
      "1688/1688 - 5s - 3ms/step - accuracy: 0.8997 - loss: 0.2777 - val_accuracy: 0.8812 - val_loss: 0.3268\n",
      "Epoch 26/30\n",
      "1688/1688 - 5s - 3ms/step - accuracy: 0.9018 - loss: 0.2746 - val_accuracy: 0.8865 - val_loss: 0.3152\n",
      "Epoch 27/30\n",
      "1688/1688 - 6s - 3ms/step - accuracy: 0.9019 - loss: 0.2717 - val_accuracy: 0.8843 - val_loss: 0.3190\n",
      "Epoch 28/30\n",
      "1688/1688 - 6s - 4ms/step - accuracy: 0.9036 - loss: 0.2680 - val_accuracy: 0.8817 - val_loss: 0.3199\n",
      "Epoch 29/30\n",
      "1688/1688 - 7s - 4ms/step - accuracy: 0.9033 - loss: 0.2656 - val_accuracy: 0.8860 - val_loss: 0.3187\n",
      "Epoch 30/30\n",
      "1688/1688 - 7s - 4ms/step - accuracy: 0.9056 - loss: 0.2614 - val_accuracy: 0.8857 - val_loss: 0.3089\n",
      "\u001b[1m313/313\u001b[0m \u001b[32m━━━━━━━━━━━━━━━━━━━━\u001b[0m\u001b[37m\u001b[0m \u001b[1m1s\u001b[0m 3ms/step - accuracy: 0.8776 - loss: 0.3375\n",
      "Test accuracy: 0.8776\n",
      "Test loss: 0.3375\n"
     ]
    },
    {
     "data": {
      "image/png": "[encoded data removed]",
      "text/plain": [
       "<Figure size 700x400 with 1 Axes>"
      ]
     },
     "metadata": {},
     "output_type": "display_data"
    }
   ],
   "source": [
    "# 1. Model creation\n",
    "model = build_mlp(activation = activation_list[2], \n",
    "                  optimizer = optimizer_list[1],\n",
    "                  dropout_rate=None, \n",
    "                  l1_reg=None,\n",
    "                  l2_reg=None\n",
    "                 )\n",
    "\n",
    "\n",
    "\n",
    "# 1.1 Summary check\n",
    "model.summary()\n",
    "\n",
    "#1.2 Early stop\n",
    "early_stop = EarlyStopping(\n",
    "    monitor='val_loss', \n",
    "    patience=3, \n",
    "    restore_best_weights=True\n",
    ")\n",
    "\n",
    "# 2. Model training\n",
    "history = model.fit(X_train, y_train, epochs=30, validation_data=(X_valid, y_valid), verbose=2)\n",
    "\n",
    "# 3. Model testing\n",
    "test_loss, test_acc = model.evaluate(X_test, y_test)\n",
    "print(f\"Test accuracy: {test_acc:.4f}\")\n",
    "print(f\"Test loss: {test_loss:.4f}\")\n",
    "\n",
    "# 4. Plot learning curves\n",
    "plt.figure(figsize=(7,4))\n",
    "plt.plot(history.history[\"accuracy\"], label=\"train acc\")\n",
    "plt.plot(history.history[\"val_accuracy\"], label=\"val acc\")\n",
    "plt.title(\"Training and Validation Accuracy\")\n",
    "plt.xlabel(\"Epoch\")\n",
    "plt.ylabel(\"Accuracy\")\n",
    "plt.legend()\n",
    "plt.grid(True)\n",
    "plt.show()"
   ]
  },
  {
   "cell_type": "markdown",
   "id": "1b89701d-1869-44af-b95d-df6507498a07",
   "metadata": {},
   "source": [
    "### 2.3) Generalization and loop through parameters"
   ]
  },
  {
   "cell_type": "markdown",
   "id": "e52125d7-633e-4e72-a4dc-d34013880e54",
   "metadata": {},
   "source": [
    "#### ---> Found in mlp_experiments.py"
   ]
  },
  {
   "cell_type": "markdown",
   "id": "4b46c74a-f549-4bdc-bde4-3d9c49f7f78c",
   "metadata": {},
   "source": [
    "### 2.4) Data analysis"
   ]
  },
  {
   "cell_type": "code",
   "execution_count": 61,
   "id": "5f31fcec-b3e2-40ae-b761-73fcfd2a01f3",
   "metadata": {},
   "outputs": [],
   "source": [
    "file_path = 'IDL/results_MLP/mlp_experiments_20251027_131622.csv'\n",
    "df = pd.read_csv(file_path)"
   ]
  },
  {
   "cell_type": "code",
   "execution_count": 64,
   "id": "8400cae8-3b9d-4056-967b-9d3eb89d440c",
   "metadata": {},
   "outputs": [
    {
     "data": {
      "text/html": [
       "<div>\n",
       "<style scoped>\n",
       "    .dataframe tbody tr th:only-of-type {\n",
       "        vertical-align: middle;\n",
       "    }\n",
       "\n",
       "    .dataframe tbody tr th {\n",
       "        vertical-align: top;\n",
       "    }\n",
       "\n",
       "    .dataframe thead th {\n",
       "        text-align: right;\n",
       "    }\n",
       "</style>\n",
       "<table border=\"1\" class=\"dataframe\">\n",
       "  <thead>\n",
       "    <tr style=\"text-align: right;\">\n",
       "      <th></th>\n",
       "      <th>Run</th>\n",
       "      <th>Activation</th>\n",
       "      <th>Optimizer</th>\n",
       "      <th>Dropout</th>\n",
       "      <th>L1_reg</th>\n",
       "      <th>L2_reg</th>\n",
       "      <th>Val_Accuracy</th>\n",
       "      <th>Val_Loss</th>\n",
       "      <th>Test_Accuracy</th>\n",
       "      <th>Test_Loss</th>\n",
       "    </tr>\n",
       "  </thead>\n",
       "  <tbody>\n",
       "    <tr>\n",
       "      <th>0</th>\n",
       "      <td>109</td>\n",
       "      <td>LeakyReLU</td>\n",
       "      <td>adam</td>\n",
       "      <td>NaN</td>\n",
       "      <td>NaN</td>\n",
       "      <td>NaN</td>\n",
       "      <td>0.897833</td>\n",
       "      <td>0.293298</td>\n",
       "      <td>0.8852</td>\n",
       "      <td>0.321397</td>\n",
       "    </tr>\n",
       "    <tr>\n",
       "      <th>1</th>\n",
       "      <td>10</td>\n",
       "      <td>relu</td>\n",
       "      <td>adam</td>\n",
       "      <td>0.2</td>\n",
       "      <td>NaN</td>\n",
       "      <td>NaN</td>\n",
       "      <td>0.896500</td>\n",
       "      <td>0.286628</td>\n",
       "      <td>0.8813</td>\n",
       "      <td>0.324915</td>\n",
       "    </tr>\n",
       "    <tr>\n",
       "      <th>2</th>\n",
       "      <td>181</td>\n",
       "      <td>LeakyReLU</td>\n",
       "      <td>rmsprop</td>\n",
       "      <td>NaN</td>\n",
       "      <td>NaN</td>\n",
       "      <td>NaN</td>\n",
       "      <td>0.892667</td>\n",
       "      <td>0.300523</td>\n",
       "      <td>0.8856</td>\n",
       "      <td>0.328384</td>\n",
       "    </tr>\n",
       "    <tr>\n",
       "      <th>3</th>\n",
       "      <td>226</td>\n",
       "      <td>tanh</td>\n",
       "      <td>adam</td>\n",
       "      <td>0.2</td>\n",
       "      <td>NaN</td>\n",
       "      <td>NaN</td>\n",
       "      <td>0.892333</td>\n",
       "      <td>0.290981</td>\n",
       "      <td>0.8850</td>\n",
       "      <td>0.321850</td>\n",
       "    </tr>\n",
       "    <tr>\n",
       "      <th>4</th>\n",
       "      <td>19</td>\n",
       "      <td>relu</td>\n",
       "      <td>adam</td>\n",
       "      <td>0.3</td>\n",
       "      <td>NaN</td>\n",
       "      <td>NaN</td>\n",
       "      <td>0.892167</td>\n",
       "      <td>0.298300</td>\n",
       "      <td>0.8827</td>\n",
       "      <td>0.328018</td>\n",
       "    </tr>\n",
       "    <tr>\n",
       "      <th>...</th>\n",
       "      <td>...</td>\n",
       "      <td>...</td>\n",
       "      <td>...</td>\n",
       "      <td>...</td>\n",
       "      <td>...</td>\n",
       "      <td>...</td>\n",
       "      <td>...</td>\n",
       "      <td>...</td>\n",
       "      <td>...</td>\n",
       "      <td>...</td>\n",
       "    </tr>\n",
       "    <tr>\n",
       "      <th>319</th>\n",
       "      <td>70</td>\n",
       "      <td>relu</td>\n",
       "      <td>sgd</td>\n",
       "      <td>0.5</td>\n",
       "      <td>0.005</td>\n",
       "      <td>NaN</td>\n",
       "      <td>0.728000</td>\n",
       "      <td>1.394721</td>\n",
       "      <td>0.7112</td>\n",
       "      <td>1.413401</td>\n",
       "    </tr>\n",
       "    <tr>\n",
       "      <th>320</th>\n",
       "      <td>178</td>\n",
       "      <td>LeakyReLU</td>\n",
       "      <td>sgd</td>\n",
       "      <td>0.5</td>\n",
       "      <td>0.005</td>\n",
       "      <td>NaN</td>\n",
       "      <td>0.727667</td>\n",
       "      <td>1.395684</td>\n",
       "      <td>0.7145</td>\n",
       "      <td>1.410892</td>\n",
       "    </tr>\n",
       "    <tr>\n",
       "      <th>321</th>\n",
       "      <td>72</td>\n",
       "      <td>relu</td>\n",
       "      <td>sgd</td>\n",
       "      <td>0.5</td>\n",
       "      <td>0.005</td>\n",
       "      <td>0.005</td>\n",
       "      <td>0.727167</td>\n",
       "      <td>1.425834</td>\n",
       "      <td>0.7103</td>\n",
       "      <td>1.444950</td>\n",
       "    </tr>\n",
       "    <tr>\n",
       "      <th>322</th>\n",
       "      <td>179</td>\n",
       "      <td>LeakyReLU</td>\n",
       "      <td>sgd</td>\n",
       "      <td>0.5</td>\n",
       "      <td>0.005</td>\n",
       "      <td>0.001</td>\n",
       "      <td>0.722667</td>\n",
       "      <td>1.393956</td>\n",
       "      <td>0.7046</td>\n",
       "      <td>1.410148</td>\n",
       "    </tr>\n",
       "    <tr>\n",
       "      <th>323</th>\n",
       "      <td>71</td>\n",
       "      <td>relu</td>\n",
       "      <td>sgd</td>\n",
       "      <td>0.5</td>\n",
       "      <td>0.005</td>\n",
       "      <td>0.001</td>\n",
       "      <td>0.719000</td>\n",
       "      <td>1.409772</td>\n",
       "      <td>0.7066</td>\n",
       "      <td>1.429220</td>\n",
       "    </tr>\n",
       "  </tbody>\n",
       "</table>\n",
       "<p>324 rows × 10 columns</p>\n",
       "</div>"
      ],
      "text/plain": [
       "     Run Activation Optimizer  Dropout  L1_reg  L2_reg  Val_Accuracy  \\\n",
       "0    109  LeakyReLU      adam      NaN     NaN     NaN      0.897833   \n",
       "1     10       relu      adam      0.2     NaN     NaN      0.896500   \n",
       "2    181  LeakyReLU   rmsprop      NaN     NaN     NaN      0.892667   \n",
       "3    226       tanh      adam      0.2     NaN     NaN      0.892333   \n",
       "4     19       relu      adam      0.3     NaN     NaN      0.892167   \n",
       "..   ...        ...       ...      ...     ...     ...           ...   \n",
       "319   70       relu       sgd      0.5   0.005     NaN      0.728000   \n",
       "320  178  LeakyReLU       sgd      0.5   0.005     NaN      0.727667   \n",
       "321   72       relu       sgd      0.5   0.005   0.005      0.727167   \n",
       "322  179  LeakyReLU       sgd      0.5   0.005   0.001      0.722667   \n",
       "323   71       relu       sgd      0.5   0.005   0.001      0.719000   \n",
       "\n",
       "     Val_Loss  Test_Accuracy  Test_Loss  \n",
       "0    0.293298         0.8852   0.321397  \n",
       "1    0.286628         0.8813   0.324915  \n",
       "2    0.300523         0.8856   0.328384  \n",
       "3    0.290981         0.8850   0.321850  \n",
       "4    0.298300         0.8827   0.328018  \n",
       "..        ...            ...        ...  \n",
       "319  1.394721         0.7112   1.413401  \n",
       "320  1.395684         0.7145   1.410892  \n",
       "321  1.425834         0.7103   1.444950  \n",
       "322  1.393956         0.7046   1.410148  \n",
       "323  1.409772         0.7066   1.429220  \n",
       "\n",
       "[324 rows x 10 columns]"
      ]
     },
     "execution_count": 64,
     "metadata": {},
     "output_type": "execute_result"
    }
   ],
   "source": [
    "df_sorted = df.sort_values(by='Val_Accuracy', ascending=False)\n",
    "df_sorted"
   ]
  },
  {
   "cell_type": "code",
   "execution_count": 65,
   "id": "cfe8e13b-9680-4e29-85e6-bec571e7289f",
   "metadata": {},
   "outputs": [
    {
     "data": {
      "text/html": [
       "<div>\n",
       "<style scoped>\n",
       "    .dataframe tbody tr th:only-of-type {\n",
       "        vertical-align: middle;\n",
       "    }\n",
       "\n",
       "    .dataframe tbody tr th {\n",
       "        vertical-align: top;\n",
       "    }\n",
       "\n",
       "    .dataframe thead th {\n",
       "        text-align: right;\n",
       "    }\n",
       "</style>\n",
       "<table border=\"1\" class=\"dataframe\">\n",
       "  <thead>\n",
       "    <tr style=\"text-align: right;\">\n",
       "      <th></th>\n",
       "      <th>Run</th>\n",
       "      <th>Activation</th>\n",
       "      <th>Optimizer</th>\n",
       "      <th>Dropout</th>\n",
       "      <th>L1_reg</th>\n",
       "      <th>L2_reg</th>\n",
       "      <th>Val_Accuracy</th>\n",
       "      <th>Val_Loss</th>\n",
       "      <th>Test_Accuracy</th>\n",
       "      <th>Test_Loss</th>\n",
       "    </tr>\n",
       "  </thead>\n",
       "  <tbody>\n",
       "    <tr>\n",
       "      <th>1</th>\n",
       "      <td>10</td>\n",
       "      <td>relu</td>\n",
       "      <td>adam</td>\n",
       "      <td>0.2</td>\n",
       "      <td>NaN</td>\n",
       "      <td>NaN</td>\n",
       "      <td>0.896500</td>\n",
       "      <td>0.286628</td>\n",
       "      <td>0.8813</td>\n",
       "      <td>0.324915</td>\n",
       "    </tr>\n",
       "    <tr>\n",
       "      <th>3</th>\n",
       "      <td>226</td>\n",
       "      <td>tanh</td>\n",
       "      <td>adam</td>\n",
       "      <td>0.2</td>\n",
       "      <td>NaN</td>\n",
       "      <td>NaN</td>\n",
       "      <td>0.892333</td>\n",
       "      <td>0.290981</td>\n",
       "      <td>0.8850</td>\n",
       "      <td>0.321850</td>\n",
       "    </tr>\n",
       "    <tr>\n",
       "      <th>6</th>\n",
       "      <td>1</td>\n",
       "      <td>relu</td>\n",
       "      <td>adam</td>\n",
       "      <td>NaN</td>\n",
       "      <td>NaN</td>\n",
       "      <td>NaN</td>\n",
       "      <td>0.891500</td>\n",
       "      <td>0.291322</td>\n",
       "      <td>0.8813</td>\n",
       "      <td>0.322929</td>\n",
       "    </tr>\n",
       "    <tr>\n",
       "      <th>0</th>\n",
       "      <td>109</td>\n",
       "      <td>LeakyReLU</td>\n",
       "      <td>adam</td>\n",
       "      <td>NaN</td>\n",
       "      <td>NaN</td>\n",
       "      <td>NaN</td>\n",
       "      <td>0.897833</td>\n",
       "      <td>0.293298</td>\n",
       "      <td>0.8852</td>\n",
       "      <td>0.321397</td>\n",
       "    </tr>\n",
       "    <tr>\n",
       "      <th>8</th>\n",
       "      <td>217</td>\n",
       "      <td>tanh</td>\n",
       "      <td>adam</td>\n",
       "      <td>NaN</td>\n",
       "      <td>NaN</td>\n",
       "      <td>NaN</td>\n",
       "      <td>0.891167</td>\n",
       "      <td>0.294045</td>\n",
       "      <td>0.8830</td>\n",
       "      <td>0.327309</td>\n",
       "    </tr>\n",
       "    <tr>\n",
       "      <th>...</th>\n",
       "      <td>...</td>\n",
       "      <td>...</td>\n",
       "      <td>...</td>\n",
       "      <td>...</td>\n",
       "      <td>...</td>\n",
       "      <td>...</td>\n",
       "      <td>...</td>\n",
       "      <td>...</td>\n",
       "      <td>...</td>\n",
       "      <td>...</td>\n",
       "    </tr>\n",
       "    <tr>\n",
       "      <th>274</th>\n",
       "      <td>322</td>\n",
       "      <td>tanh</td>\n",
       "      <td>rmsprop</td>\n",
       "      <td>0.5</td>\n",
       "      <td>0.005</td>\n",
       "      <td>NaN</td>\n",
       "      <td>0.781167</td>\n",
       "      <td>1.723999</td>\n",
       "      <td>0.7618</td>\n",
       "      <td>1.747811</td>\n",
       "    </tr>\n",
       "    <tr>\n",
       "      <th>293</th>\n",
       "      <td>106</td>\n",
       "      <td>relu</td>\n",
       "      <td>rmsprop</td>\n",
       "      <td>0.5</td>\n",
       "      <td>0.005</td>\n",
       "      <td>NaN</td>\n",
       "      <td>0.769333</td>\n",
       "      <td>1.732902</td>\n",
       "      <td>0.7417</td>\n",
       "      <td>1.761422</td>\n",
       "    </tr>\n",
       "    <tr>\n",
       "      <th>304</th>\n",
       "      <td>216</td>\n",
       "      <td>LeakyReLU</td>\n",
       "      <td>rmsprop</td>\n",
       "      <td>0.5</td>\n",
       "      <td>0.005</td>\n",
       "      <td>0.005</td>\n",
       "      <td>0.760833</td>\n",
       "      <td>1.741781</td>\n",
       "      <td>0.7423</td>\n",
       "      <td>1.760844</td>\n",
       "    </tr>\n",
       "    <tr>\n",
       "      <th>312</th>\n",
       "      <td>107</td>\n",
       "      <td>relu</td>\n",
       "      <td>rmsprop</td>\n",
       "      <td>0.5</td>\n",
       "      <td>0.005</td>\n",
       "      <td>0.001</td>\n",
       "      <td>0.748333</td>\n",
       "      <td>1.780957</td>\n",
       "      <td>0.7394</td>\n",
       "      <td>1.797028</td>\n",
       "    </tr>\n",
       "    <tr>\n",
       "      <th>315</th>\n",
       "      <td>108</td>\n",
       "      <td>relu</td>\n",
       "      <td>rmsprop</td>\n",
       "      <td>0.5</td>\n",
       "      <td>0.005</td>\n",
       "      <td>0.005</td>\n",
       "      <td>0.742667</td>\n",
       "      <td>1.793848</td>\n",
       "      <td>0.7341</td>\n",
       "      <td>1.806978</td>\n",
       "    </tr>\n",
       "  </tbody>\n",
       "</table>\n",
       "<p>324 rows × 10 columns</p>\n",
       "</div>"
      ],
      "text/plain": [
       "     Run Activation Optimizer  Dropout  L1_reg  L2_reg  Val_Accuracy  \\\n",
       "1     10       relu      adam      0.2     NaN     NaN      0.896500   \n",
       "3    226       tanh      adam      0.2     NaN     NaN      0.892333   \n",
       "6      1       relu      adam      NaN     NaN     NaN      0.891500   \n",
       "0    109  LeakyReLU      adam      NaN     NaN     NaN      0.897833   \n",
       "8    217       tanh      adam      NaN     NaN     NaN      0.891167   \n",
       "..   ...        ...       ...      ...     ...     ...           ...   \n",
       "274  322       tanh   rmsprop      0.5   0.005     NaN      0.781167   \n",
       "293  106       relu   rmsprop      0.5   0.005     NaN      0.769333   \n",
       "304  216  LeakyReLU   rmsprop      0.5   0.005   0.005      0.760833   \n",
       "312  107       relu   rmsprop      0.5   0.005   0.001      0.748333   \n",
       "315  108       relu   rmsprop      0.5   0.005   0.005      0.742667   \n",
       "\n",
       "     Val_Loss  Test_Accuracy  Test_Loss  \n",
       "1    0.286628         0.8813   0.324915  \n",
       "3    0.290981         0.8850   0.321850  \n",
       "6    0.291322         0.8813   0.322929  \n",
       "0    0.293298         0.8852   0.321397  \n",
       "8    0.294045         0.8830   0.327309  \n",
       "..        ...            ...        ...  \n",
       "274  1.723999         0.7618   1.747811  \n",
       "293  1.732902         0.7417   1.761422  \n",
       "304  1.741781         0.7423   1.760844  \n",
       "312  1.780957         0.7394   1.797028  \n",
       "315  1.793848         0.7341   1.806978  \n",
       "\n",
       "[324 rows x 10 columns]"
      ]
     },
     "execution_count": 65,
     "metadata": {},
     "output_type": "execute_result"
    }
   ],
   "source": [
    "df_sorted = df.sort_values(by='Val_Loss', ascending=True)\n",
    "df_sorted"
   ]
  },
  {
   "cell_type": "code",
   "execution_count": null,
   "id": "1442541b-51e5-4099-aab0-26f82d601672",
   "metadata": {},
   "outputs": [],
   "source": []
  },
  {
   "cell_type": "code",
   "execution_count": null,
   "id": "70615dcb-0121-42bf-83bc-db9ba7825363",
   "metadata": {},
   "outputs": [],
   "source": []
  },
  {
   "cell_type": "code",
   "execution_count": null,
   "id": "e6e1efd8-6cb2-4a9d-ba48-e230595f5284",
   "metadata": {},
   "outputs": [],
   "source": []
  }
 ],
 "metadata": {
  "kernelspec": {
   "display_name": "Python 3 (ipykernel)",
   "language": "python",
   "name": "python3"
  },
  "language_info": {
   "codemirror_mode": {
    "name": "ipython",
    "version": 3
   },
   "file_extension": ".py",
   "mimetype": "text/x-python",
   "name": "python",
   "nbconvert_exporter": "python",
   "pygments_lexer": "ipython3",
   "version": "3.10.18"
  }
 },
 "nbformat": 4,
 "nbformat_minor": 5
}
